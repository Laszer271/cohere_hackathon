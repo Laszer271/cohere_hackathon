{
 "cells": [
  {
   "cell_type": "code",
   "execution_count": 1,
   "id": "80c32711-8021-43ae-acb1-a2332a69e682",
   "metadata": {},
   "outputs": [],
   "source": [
    "import cohere\n",
    "\n",
    "with open('api_key.txt', 'r') as f:\n",
    "    api_key = f.read()\n",
    "\n",
    "co = cohere.Client(api_key)\n",
    "\n",
    "last_part = '6. Startup title: Golem AI\\n6. Startup description:'\n",
    "\n",
    "prompt = f\"\"\"\n",
    "Generate 6 startup ideas that use generative AI and Cohere NLP endpoint. The last one should be the greatest, worthy of winning a hackathon.\n",
    "\n",
    "1. Startup title: Perfect Prompt\n",
    "1. Startup description: Prompt engineering and image generation tool.\n",
    "--\n",
    "2. Startup title: Tip of my Tongue\n",
    "2. Startup description: An application that improves the efficiency of chat-based support systems.\n",
    "--\n",
    "3. Startup title: Turing Test\n",
    "3. Startup description: A tool for finding and browsing books based on short prompts, keywords, or story plot.\n",
    "--\n",
    "4. Startup title: Debait\n",
    "4. Startup description: An AI-system capable of debating complex topics.\n",
    "--\n",
    "5. Startup title: SuperTransformer\n",
    "5. Startup description: AI Assisted Intelligent Inbox solution to automatically categorize your emails based on your feedback and preferences, saving you hours of manual triaging, and making you more\n",
    "--\n",
    "\n",
    "\"\"\"\n",
    "\n",
    "response = co.generate(\n",
    "    prompt=prompt+last_part,\n",
    "    model='xlarge',\n",
    "    max_tokens=40,\n",
    "    temperature=0.6,\n",
    "    num_generations=5,\n",
    "    stop_sequences=[\"--\"]\n",
    ")"
   ]
  },
  {
   "cell_type": "code",
   "execution_count": 2,
   "id": "e43afb1b-6988-4818-89dc-d0d4a65f0a5f",
   "metadata": {},
   "outputs": [],
   "source": [
    "# with open('api_key.txt', 'w') as f:\n",
    "#     f.write(api_key)"
   ]
  },
  {
   "cell_type": "code",
   "execution_count": 3,
   "id": "064346ed-a320-4b28-8500-60aee5117649",
   "metadata": {},
   "outputs": [],
   "source": [
    "# response"
   ]
  },
  {
   "cell_type": "code",
   "execution_count": 4,
   "id": "4ee664c4-342b-4562-b0b4-21c0e886a6c5",
   "metadata": {},
   "outputs": [
    {
     "name": "stdout",
     "output_type": "stream",
     "text": [
      "6. Startup title: Golem AI\n",
      "6. Startup description: AI-system capable of programming the \"Internet of Things\" based on the user's instructions.\n",
      "--\n",
      "6. Startup title: Golem AI\n",
      "6. Startup description: The world's first AI-based online marketplace for intellectual services.\n",
      "--\n",
      "6. Startup title: Golem AI\n",
      "6. Startup description: This is a prototype of an application that uses Cohere's NLP to solve the problem of AI Safety.\n",
      "--\n",
      "6. Startup title: Golem AI\n",
      "6. Startup description: An AI-system capable of debating complex topics.\n",
      "--\n",
      "6. Startup title: Golem AI\n",
      "6. Startup description: Golem AI is a tool for automatically generating 3D models of people and their clothing, based on just a few inputs.\n",
      "--\n"
     ]
    }
   ],
   "source": [
    "for gen in response.generations:\n",
    "    print(f'{last_part}{gen.text}')"
   ]
  },
  {
   "cell_type": "code",
   "execution_count": 5,
   "id": "f004b31a-5939-4ea5-9837-6faae28f50d8",
   "metadata": {},
   "outputs": [
    {
     "name": "stdout",
     "output_type": "stream",
     "text": [
      "api_key.txt  requirements.txt  Untitled.ipynb\n"
     ]
    }
   ],
   "source": [
    "!ls"
   ]
  },
  {
   "cell_type": "code",
   "execution_count": 6,
   "id": "c030f181-8966-4303-b345-61df26c90d23",
   "metadata": {},
   "outputs": [],
   "source": [
    "!pip freeze > requirements.txt"
   ]
  },
  {
   "cell_type": "code",
   "execution_count": null,
   "id": "98823dd3-aa37-46bd-a28b-cffa3e122424",
   "metadata": {},
   "outputs": [],
   "source": []
  }
 ],
 "metadata": {
  "kernelspec": {
   "display_name": "cohere_hackathon",
   "language": "python",
   "name": "cohere_hackathon"
  },
  "language_info": {
   "codemirror_mode": {
    "name": "ipython",
    "version": 3
   },
   "file_extension": ".py",
   "mimetype": "text/x-python",
   "name": "python",
   "nbconvert_exporter": "python",
   "pygments_lexer": "ipython3",
   "version": "3.9.7"
  }
 },
 "nbformat": 4,
 "nbformat_minor": 5
}
