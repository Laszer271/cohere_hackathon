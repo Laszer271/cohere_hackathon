{
  "cells": [
    {
      "cell_type": "markdown",
      "metadata": {
        "id": "YNK61JcCt_jc"
      },
      "source": [
        "# Generating Stories and Story ideas with Cohere and Stable Diffusion\n",
        "\n",
        "Describe your story in two sentences, then guide Cohere's language model as it turns it into a bigger story.\n",
        "\n",
        "Your story description, called the log line, will then be used to generate the story title, characters, plot, location descriptions, and scene dialog. This is done with a different prompt for each of these components.\n",
        "\n",
        "This notebook follows the method and prompts described in the paper [Co-Writing Screenplays and Theatre Scripts with Language Models: An Evaluation by Industry Professionals](https://www.deepmind.com/publications/co-writing-screenplays-and-theatre-scripts-with-language-models-an-evaluation-by-industry-professionals) by Piotr Mirowski, Kory Mathewson, Jaylen Pittman, Richard Evans.\n",
        "\n",
        "![https://i.imgur.com/IcHfYhw.png](https://i.imgur.com/IcHfYhw.png)\n",
        "\n"
      ]
    },
    {
      "cell_type": "code",
      "execution_count": null,
      "metadata": {
        "id": "BmhfNHANRWmD"
      },
      "outputs": [],
      "source": [
        "!pip install stability-sdk cohere"
      ]
    },
    {
      "cell_type": "code",
      "execution_count": null,
      "metadata": {},
      "outputs": [],
      "source": [
        "#@title Import Cohere, set up some things { display-mode: \"form\" }\n",
        "\n",
        "import cohere\n",
        "import time\n",
        "import pandas as pd\n",
        "import re\n",
        "import io\n",
        "import os\n",
        "import warnings\n",
        "from IPython.display import display\n",
        "from PIL import Image\n",
        "from stability_sdk import client\n",
        "import stability_sdk.interfaces.gooseai.generation.generation_pb2 as generation\n",
        "import getpass, os"
      ]
    },
    {
      "cell_type": "code",
      "execution_count": null,
      "metadata": {},
      "outputs": [],
      "source": [
        "with open('../cohere_api_key.txt', 'r') as f:\n",
        "    api_key = f.read()\n",
        "\n",
        "co = cohere.Client(api_key)\n",
        "del api_key"
      ]
    },
    {
      "cell_type": "code",
      "execution_count": null,
      "metadata": {},
      "outputs": [],
      "source": [
        "def generate(prompt, model=\"xlarge\", \n",
        "             num_generations=5, temperature=0.7, \n",
        "             max_tokens=50, stop_sequences=['<end>']):\n",
        "             \n",
        "  prediction = co.generate(\n",
        "    model=model,\n",
        "    prompt=prompt,\n",
        "    return_likelihoods = 'GENERATION',\n",
        "    stop_sequences=stop_sequences,\n",
        "    max_tokens=max_tokens,\n",
        "    temperature=temperature,\n",
        "    num_generations=num_generations)\n",
        "  \n",
        "  # Get list of generations\n",
        "  gens = []\n",
        "  likelihoods = []\n",
        "  for gen in prediction.generations:\n",
        "      gens.append(gen.text)\n",
        "      \n",
        "      sum_likelihood = 0\n",
        "      for t in gen.token_likelihoods:\n",
        "          sum_likelihood += t.likelihood\n",
        "      # Get sum of likelihoods\n",
        "      likelihoods.append(sum_likelihood)\n",
        "\n",
        "  pd.options.display.max_colwidth = 200\n",
        "  # Create a dataframe for the generated sentences and their likelihood scores\n",
        "  df = pd.DataFrame({'generation':gens, 'likelihood': likelihoods})\n",
        "  # Drop duplicates\n",
        "  df = df.drop_duplicates(subset=['generation'])\n",
        "  # Sort by highest sum likelihood\n",
        "  df = df.sort_values('likelihood', ascending=False, ignore_index=True)\n",
        "  \n",
        "  return df"
      ]
    },
    {
      "cell_type": "code",
      "execution_count": null,
      "metadata": {},
      "outputs": [],
      "source": [
        "with open('../stability_api_key.txt', 'r') as f:\n",
        "    api_key = f.read()\n",
        "\n",
        "stability_api = client.StabilityInference(\n",
        "    key=api_key, \n",
        "    verbose=True,\n",
        ")\n",
        "\n",
        "del api_key"
      ]
    },
    {
      "cell_type": "code",
      "execution_count": null,
      "metadata": {
        "colab": {
          "base_uri": "https://localhost:8080/"
        },
        "id": "JUPDnAyKRbnK",
        "outputId": "adda1e5a-9650-498a-a24c-cd23ac4a9621"
      },
      "outputs": [],
      "source": [
        "def generate_image(image_prompt):\n",
        "  # the object returned is a python generator\n",
        "  answers = stability_api.generate(\n",
        "      prompt=image_prompt\n",
        "  )\n",
        "\n",
        "  # iterating over the generator produces the api response\n",
        "  for resp in answers:\n",
        "      for artifact in resp.artifacts:\n",
        "          if artifact.finish_reason == generation.FILTER:\n",
        "              warnings.warn(\n",
        "                  \"Your request activated the API's safety filters and could not be processed.\"\n",
        "                  \"Please modify the prompt and try again.\")\n",
        "          if artifact.type == generation.ARTIFACT_IMAGE:\n",
        "              img = Image.open(io.BytesIO(artifact.binary))\n",
        "              display(img)\n"
      ]
    },
    {
      "cell_type": "markdown",
      "metadata": {
        "id": "IHm59c6ZdzFo"
      },
      "source": [
        "## Story Summary\n",
        "All we have to do is write a story summary. The model generates the rest.\n",
        "\n",
        "This brief description is called the log line."
      ]
    },
    {
      "cell_type": "code",
      "execution_count": null,
      "metadata": {
        "id": "DpjZXk0cSPo2"
      },
      "outputs": [],
      "source": [
        "log_line = \"\"\"Scifi cyberpunk story about two hackers who find themselves both \n",
        "the targets of a cyber intelligence agent who suspects them of stealing $3.5 \n",
        "million worth of Bitcoin. The two do not know each other, and neither of them \n",
        "recalls stealing the sum.\"\"\""
      ]
    },
    {
      "cell_type": "code",
      "execution_count": null,
      "metadata": {
        "colab": {
          "base_uri": "https://localhost:8080/",
          "height": 206
        },
        "id": "F2LK6TYkSBUg",
        "outputId": "da6ed734-764d-433c-9772-81527bfb9815"
      },
      "outputs": [],
      "source": [
        "#@title Generate Title Suggestions { display-mode: \"form\" }\n",
        "\n",
        "prompt_title_scifi = \"\"\"Examples of alternative, original and descriptive titles for known play and film scripts.\n",
        "\n",
        "Example 1. A science - fiction fantasy about a naive but ambitious farm boy from a backwater desert who\n",
        "discovers powers he never knew he had when he teams up with a feisty princess, a mercenary space pilot\n",
        "and an old wizard warrior to lead a ragtag rebellion against the sinister forces of the evil Galactic\n",
        "Empire. Title: The Death Star's Menace <end>\n",
        "\n",
        "Example 2. Residents of San Fernando Valley are under attack by flying saucers from outer space. The\n",
        "aliens are extraterrestrials who seek to stop humanity from creating a doomsday weapon that could\n",
        "destroy the universe and unleash the living dead to stalk humans who wander into the cemetery looking\n",
        "for evidence of the UFOs. The hero Jeff, an airline pilot, will face the aliens. Title: The Day The\n",
        "Earth Was Saved By Outer Space. <end>\n",
        "\n",
        "Example 3. {LOG_LINE} Title:\"\"\"\n",
        "\n",
        "prompt = prompt_title_scifi.format(LOG_LINE=log_line)\n",
        "\n",
        "titles = generate(prompt, temperature=1, max_tokens=20)\n",
        "titles"
      ]
    },
    {
      "cell_type": "code",
      "execution_count": null,
      "metadata": {
        "cellView": "form",
        "colab": {
          "base_uri": "https://localhost:8080/"
        },
        "id": "CPsLF9iuTapa",
        "outputId": "2ae299b8-fafa-4585-d98f-ab17077a3982"
      },
      "outputs": [],
      "source": [
        "#@title Generate Characters and Description\n",
        "\n",
        "character_prompt_scifi = \"\"\"\n",
        "Example 1. A science fiction fantasy about a naive but ambitious farm boy from a backwater desert who\n",
        "discovers powers he never knew he had when he teams up with a feisty princess, a mercenary space pilot\n",
        "and an old wizard warrior to lead a ragtag rebellion against the sinister forces of the evil Galactic\n",
        "Empire.\n",
        "Characters and descriptions:\n",
        "<character> Luke Skywalker <description> Luke Skywalker is the hero. A naive farm boy, he will discover\n",
        "special powers under the guidance of mentor Ben Kenobi. <stop>\n",
        "<character> Ben Kenobi <description> Ben Kenobi is the mentor figure. A recluse Jedi warrior, he will\n",
        "take Luke Skywalker as apprentice. <stop>\n",
        "<character> Darth Vader <description> Darth Vader is the antagonist. As a commander of the evil Galactic\n",
        "Empire, he controls space station The Death Star. <stop>\n",
        "<character> Princess Leia <description> Princess Leia is a feisty and brave leader of the Rebellion. She\n",
        "holds the plans of the Death Star. She will become Luke's friend. <stop>\n",
        "<character> Han Solo <description> Han Solo is a brash mercenary space pilot of the Millenium Falcon and\n",
        "a friend of Chebacca. He will take Luke on his spaceship. <stop>\n",
        "<character> Chewbacca <description> Chewbacca is a furry and trustful monster. He is a friend of Han\n",
        "Solo and a copilot on the Millemium Falcon. <stop>\n",
        "<end>\n",
        "Example 2. {LOG_LINE}.\n",
        "Characters and descriptions:\"\"\"\n",
        "\n",
        "prompt = character_prompt_scifi.format(LOG_LINE=log_line)\n",
        "\n",
        "titles = generate(prompt, num_generations=3, temperature=1, max_tokens=500)\n",
        "\n",
        "for idx, gen in enumerate(titles['generation'].values):\n",
        "  print(f\"============\")\n",
        "  print(f\"Generation {idx}\")\n",
        "  print(gen)\n",
        "\n",
        "# Which generation to pick?\n",
        "gen_idx = 0\n",
        "gen = titles['generation'].values[gen_idx]\n",
        "\n",
        "character_descriptions = re.findall('\\<description\\>\\s(.*?)\\s<stop>', gen, re.DOTALL)\n",
        "character_names = re.findall('\\<character\\>\\s(.*?)\\s<description>', gen, re.DOTALL)"
      ]
    },
    {
      "cell_type": "code",
      "execution_count": null,
      "metadata": {
        "colab": {
          "base_uri": "https://localhost:8080/"
        },
        "id": "NuH6Dd1A09Ae",
        "outputId": "02b43550-9f4b-4c3c-b76c-08b5f83c84b9"
      },
      "outputs": [],
      "source": [
        "character_descriptions"
      ]
    },
    {
      "cell_type": "markdown",
      "metadata": {
        "id": "-xDtejem3LJU"
      },
      "source": [
        "## Visualize Characters with Stable Diffusion\n",
        "\n",
        "Now that we have character descriptions, we can generate possible images showing them. We can get some style descriptions from Lexica.art."
      ]
    },
    {
      "cell_type": "code",
      "execution_count": null,
      "metadata": {
        "id": "DqbIrwvs0utb"
      },
      "outputs": [],
      "source": [
        "# Get character style prompts from https://lexica.art/?q=cyberpunk\n",
        "character_style_1 = \"\"\"portrait futuristic cyberpunk, in heavy rainning \n",
        "futuristic tokyo rooftop cyberpunk night, ssci-fi, fantasy, intricate, very very \n",
        "beautiful, elegant, neon light, highly detailed, digital painting, artstation, \n",
        "concept art, soft light, hdri, smooth, sharp focus\"\"\"\n",
        "\n",
        "character_style_2 = \"\"\"detailed portrait Neon Operator, cyberpunk \n",
        "futuristic neon, reflective puffy coat, decorated with traditional \n",
        "Japanese ornaments by Ismail inceoglu dragan bibin hans thoma greg rutkowski \n",
        "Alexandros Pyromallis Nekro Rene Maritte Illustrated, Perfect face, fine details,\n",
        " realistic shaded, fine-face, pretty face\"\"\""
      ]
    },
    {
      "cell_type": "code",
      "execution_count": null,
      "metadata": {
        "colab": {
          "base_uri": "https://localhost:8080/",
          "height": 1000
        },
        "id": "x3wU5sgg18I1",
        "outputId": "7f494c1c-ba27-45e4-c1ba-c564e6c5b246"
      },
      "outputs": [],
      "source": [
        "\n",
        "image_prompt_character_1 = f'{character_descriptions[1]} {character_style_1}'\n",
        "print(image_prompt_character_1)\n",
        "\n",
        "# Generate images\n",
        "for i in range (3):\n",
        "  print(generate_image(image_prompt_character_1))"
      ]
    },
    {
      "cell_type": "code",
      "execution_count": null,
      "metadata": {
        "colab": {
          "base_uri": "https://localhost:8080/",
          "height": 620
        },
        "id": "NMFToeWL2JqD",
        "outputId": "2850179d-76a8-4984-dfc4-e896bb80175e"
      },
      "outputs": [],
      "source": [
        "image_prompt_character_2 = f'{character_descriptions[2]} {character_style_2}'\n",
        "image_prompt_character_2\n",
        "\n",
        "generate_image(image_prompt_character_2)"
      ]
    },
    {
      "cell_type": "markdown",
      "metadata": {
        "id": "CaVKLPwsecNA"
      },
      "source": [
        "## Narrative Structure\n",
        "\n",
        "![https://i.imgur.com/Rkxvlmp.png](https://i.imgur.com/Rkxvlmp.png)"
      ]
    },
    {
      "cell_type": "code",
      "execution_count": null,
      "metadata": {
        "cellView": "form",
        "colab": {
          "base_uri": "https://localhost:8080/"
        },
        "id": "1MjVaZWyynpQ",
        "outputId": "0c0a964b-3790-458c-cead-b92fe7bbe31a"
      },
      "outputs": [],
      "source": [
        "#@title Generate Story Beats\n",
        "\n",
        "story_structure = \"\"\"\n",
        "Examples of breakdowns of stories into a Hero 's Journey structure.\n",
        "\n",
        "Example 1. A science - fiction fantasy about a naive but ambitious farm boy from a backwater desert who\n",
        "discovers powers he never knew he had when he teams up with a feisty princess, a mercenary space pilot\n",
        "and an old wizard warrior to lead a ragtag rebellion against the sinister forces of the evil Galactic\n",
        "Empire.\n",
        "Luke Skywalker is the hero. A naive farm boy, he will discover special powers under the guidance of\n",
        "mentor Ben Kenobi.\n",
        "Ben Kenobi is the mentor figure. A recluse Jedi warrior, he will take Luke Skywalker as apprentice.\n",
        "Darth Vader is the antagonist. As a commander of the evil Galactic Empire, he controls space station\n",
        "The Death Star.\n",
        "Princess Leia holds the plans of the Death Star. She is feisty and brave. She will become Luke 's\n",
        "friend.\n",
        "Han Solo is a brash mercenary space pilot of the Millenium Falcon and a friend of Chebacca. He will\n",
        "take Luke on his spaceship.\n",
        "Chewbacca is a furry and trustful monster. He is a friend of Han Solo and a copilot on the Millemium\n",
        "Falcon.\n",
        "\n",
        "<scenes>\n",
        "\n",
        "Place: A farm on planet Tatooine.\n",
        "Plot element: 1- The Ordinary World.\n",
        "Beat: Luke Skywalker is living a normal and humble life as a farm boy on his home planet.\n",
        "\n",
        "Place: Desert of Tatooine.\n",
        "Plot element: 2- Call to Adventure.\n",
        "Beat: Luke is called to adventure by Ben Kenobi, who tells him about his Jedi heritage and suggests he come with them.\n",
        "\n",
        "Place: A farm on planet Tatooine.\n",
        "Plot element: 3- Refusal of the Call.\n",
        "Beat: Luke initially refuses to leave his Aunt and Uncle behind for an adventure in space.\n",
        "\n",
        "Place: A farm on planet Tatooine.\n",
        "Plot element: 4- Crossing the First Threshold.\n",
        "Beat: Luke is forced to join the adventure when he discovers his Aunt and Uncle have been killed by the Empire and he has nowhere else to go.\n",
        "\n",
        "Place: On spaceship The Millennium Falcon.\n",
        "Plot element: 5- The Approach to the Inmost Cave.\n",
        "Beat: The group's plan to defeat the Empire and bring the Death Star plans to the Rebellion is thwarted when they arrive at Alderaan and find the planet destroyed. They are pulled into the Death Star by a tractor beam.\n",
        "\n",
        "Place: On space station The Death Star.\n",
        "Plot element: 6- The Ordeal and The Reward.\n",
        "Beat: The group faces challenges on the Death Star, including rescuing Princess Leia and escaping, and Kenobi sacrificing himself. They are successful in retrieving the Death Star plans, giving them the knowledge to destroy the Empire's weapon.\n",
        "\n",
        "<end>\n",
        "Example 2. {LOG_LINE}\n",
        "{CHARACTER_DESCRIPTIONS}\n",
        "<scenes>\"\"\"\n",
        "\n",
        "character_descriptions_prompt_section = \"\\n\".join(character_descriptions)\n",
        "prompt = story_structure.format(LOG_LINE=log_line, \n",
        "                                CHARACTER_DESCRIPTIONS=character_descriptions_prompt_section)\n",
        "\n",
        "titles = generate(prompt, \n",
        "                  num_generations=1, temperature=1.1, max_tokens=500)\n",
        "\n",
        "for idx, gen in enumerate(titles['generation'].values):\n",
        "  print(f\"============\")\n",
        "  print(f\"Generation {idx}\")\n",
        "  print(gen)\n",
        "\n",
        "beat_sections = re.findall('(Place.*?)\\n\\n', gen, re.DOTALL)\n",
        "# beat_sections\n",
        "\n",
        "df = pd.DataFrame(columns=['place', 'plot_element', 'beat'])\n",
        "story_beats = []\n",
        "for beat_section in beat_sections:\n",
        "  # print(f'==\\n{beat_section}')\n",
        "  place = re.findall('Place:\\s(.*?)\\.\\n', beat_section, re.DOTALL)\n",
        "  plot_element = re.findall('Plot element:\\s(.*?)\\.\\n', beat_section, re.DOTALL)\n",
        "  beat= re.findall('Beat: (.*?)\\.', beat_section, re.DOTALL)\n",
        "  story_beats.append({'place':place[0], 'plot_element': plot_element[0], 'beat':beat[0]})\n",
        "\n",
        "\n",
        "place_names = re.findall('Place:\\s(.*?)\\.\\nPlot element:', gen, re.DOTALL)\n",
        "plot_elements = re.findall('Plot element:\\s(.*?)\\.\\n', gen, re.DOTALL)\n",
        "\n",
        "place_names = pd.Series(place_names).unique()\n"
      ]
    },
    {
      "cell_type": "markdown",
      "metadata": {
        "id": "CLt4ST7OtS4j"
      },
      "source": [
        "\n",
        "## Location Description\n",
        "Let's now generate a description for each place mentioned in the story structure."
      ]
    },
    {
      "cell_type": "code",
      "execution_count": null,
      "metadata": {
        "cellView": "form",
        "colab": {
          "base_uri": "https://localhost:8080/"
        },
        "id": "ZFk9FiH6v4K3",
        "outputId": "0d4b65c5-7b67-4c23-e308-c871e55d5759"
      },
      "outputs": [],
      "source": [
        "#@title Generate location descriptions\n",
        "\n",
        "# Updated prompt. Switched \"Description\" to \"Place description\"\n",
        "place_prompt = \"\"\"\n",
        "Example 1. Morgan adopts a new cat, Misterio, who sets a curse on anyone that pets them.\n",
        "Place: The Adoption Center.\n",
        "Place Description: The Adoption Center is a sad place, especially for an unadopted pet. It is full of walls\n",
        "and walls of cages and cages. Inside of each is an abandoned animal, longing for a home. The lighting\n",
        "is dim, gray, buzzing fluorescent. <end>\n",
        "\n",
        "Example 2. James finds a well in his backyard that is haunted by the ghost of Sam.\n",
        "Place: The well.\n",
        "Place Description: The well is buried under grass and hedges. It is at least twenty feet deep , if not more\n",
        "and it is masoned with stones. It is 150 years old at least. It stinks of stale, standing water, and\n",
        "has vines growing up the sides. It is narrow enough to not be able to fit down if you are a grown\n",
        "adult human. <end>\n",
        "\n",
        "Example 3. Mr. Dorbenson finds a book at a garage sale that tells the story of his own life. And it\n",
        "ends in a murder!\n",
        "Place: The garage sale.\n",
        "Place Description: It is a garage packed with dusty household goods and antiques. There is a box at the back\n",
        "that says FREE and is full of paper back books. <end>\n",
        "\n",
        "Example 4. {LOG_LINE}\n",
        "Place: {LOCATION_NAME}.\n",
        "Place Description:\"\"\"\n",
        "\n",
        "location_descriptions = []\n",
        "for location in place_names:\n",
        "\n",
        "  prompt = place_prompt.format(LOG_LINE=log_line, \n",
        "                                LOCATION_NAME=location)\n",
        "\n",
        "  location_description = generate(prompt, num_generations=1, temperature=1, max_tokens=100)['generation']\n",
        "  print(f'location: {location}')\n",
        "  print(f'generated description: {location_description.values[0]}\\n\\n')\n",
        "  location_descriptions.append(location_description.values[0])\n",
        "\n",
        "# location_descriptions"
      ]
    },
    {
      "cell_type": "code",
      "execution_count": null,
      "metadata": {
        "id": "4pN2zwFEmAFg"
      },
      "outputs": [],
      "source": [
        "# https://lexica.art/prompt/86975be7-69c1-4aed-b95f-8d24b0df2537\n",
        "room_style_1 = \"\"\"ultra mega super hyper realistic Digital concept interior design.\n",
        "stone walls and neon lights, a lot of electronics. Natural white \n",
        "sunlight from the transperient roof. Rendered in VRAY and  DaVinci Resolve and \n",
        "MAXWELL and LUMION 3D, Volumetric natural light\"\"\""
      ]
    },
    {
      "cell_type": "code",
      "execution_count": null,
      "metadata": {
        "colab": {
          "base_uri": "https://localhost:8080/",
          "height": 1000
        },
        "id": "tGCOlYuZmTk_",
        "outputId": "cd1b2ca0-363c-41bc-979d-c9dd331511ab"
      },
      "outputs": [],
      "source": [
        "location_description = location_descriptions[0]\n",
        "location_description = \"\"\"shabby, mostly vacant offices. Two hackers are at the office\n",
        "door.\"\"\"\n",
        "\n",
        "image_prompt_room_1 = f'{location_description} {room_style_1}'\n",
        "print(image_prompt_room_1)\n",
        "\n",
        "# Generate images\n",
        "for i in range (3):\n",
        "  print(generate_image(image_prompt_room_1))"
      ]
    },
    {
      "cell_type": "code",
      "execution_count": null,
      "metadata": {
        "id": "FiIKGYR-u-D3"
      },
      "outputs": [],
      "source": [
        "#@title Generate Dialog for scenes\n",
        "\n",
        "dialog_prompt =\"\"\"Example 1.\n",
        "Place : Cockpit of an airplane.\n",
        "Description: Cockpit of a modern passenger airplane , American Flight 812.\n",
        "Characters: Jeff is the hero. A man in his early forties, he tries to stay calm in all circumstance.\n",
        "Jeff is now a airline pilot. Danny, a young airplane pilot in his thirties, is eager to learn but can\n",
        "quickly lose his composture. Danny is enamored of Edith. Edith, an experienced stewardess with a good\n",
        "sense of humour, is trustworthy and dependable. Edith likes to tease Danny.\n",
        "Plot element: Crossing the First Threshold.\n",
        "Summary: Residents of San Fernando Valley are under attack by flying saucers from outer space. The\n",
        "aliens are extraterrestrials who seek to stop humanity from creating a doomsday weapon that could\n",
        "destroy the universe and unleash the living dead to stalk humans who wander into the cemetery looking\n",
        "for evidence of the UFOs. The hero Jeff, an airline pilot, will face the aliens.\n",
        "Previous beat: Flight captain Jeff reluctantly leaves his wife Paula to go for a two-day flight.\n",
        "Beat: At the cockpit, flight captain Jeff is preoccupied by the flying saucer appearances and\n",
        "graveyard incidents in his home town, where he left wis wife Paula. Without success, co-pilot Danny\n",
        "and stewardess Edith try to reassure him.\n",
        "\n",
        "<dialog>\n",
        "\n",
        "DANNY\n",
        "You're mighty silent this trip, Jeff.\n",
        "\n",
        "JEFF\n",
        "Huh?\n",
        "\n",
        "DANNY\n",
        "You haven't spoken ten words since takeoff.\n",
        "\n",
        "JEFF\n",
        "I guess I'm preoccupied, Danny.\n",
        "\n",
        "DANNY\n",
        "We've got thirty - three passengers back there that have time to be preoccupied .\n",
        "Flying this flybird doesn 't give you that opportunity.\n",
        "\n",
        "JEFF\n",
        "I guess you're right, Danny.\n",
        "\n",
        "DANNY\n",
        "Paula?\n",
        "\n",
        "JEFF\n",
        "Yeah.\n",
        "\n",
        "DANNY\n",
        "There's nothing wrong between you two?\n",
        "\n",
        "JEFF\n",
        "Oh no, nothing like that. Just that I'm worried, she being there alone and\n",
        "those strange things flying over the house and those incidents in the graveyard\n",
        "the past few days. It's just got me worried.\n",
        "\n",
        "DANNY\n",
        "Well , I haven't figured out those crazy skybirds yet but I give you fifty to one\n",
        "odds the police have figured out that cemetery thing by now.\n",
        "\n",
        "(Enter EDITH)\n",
        "\n",
        "JEFF\n",
        "I hope so.\n",
        "\n",
        "EDITH\n",
        "If you're really that worried Jeff why don't you radio in and find out? Mac\n",
        "should be on duty at the field by now. He could call Paula and relay the message\n",
        "to you.\n",
        "\n",
        "DANNY\n",
        "Hi Edith.\n",
        "\n",
        "EDITH\n",
        "Hi Silents. I haven't heard a word from this end of the plane since we left the\n",
        "field.\n",
        "\n",
        "DANNY\n",
        "Jeff's been giving me and himself a study in silence.\n",
        "\n",
        "EDITH\n",
        "You boys are feudin'?\n",
        "\n",
        "JEFF\n",
        "Oh no Edie, nothing like that.\n",
        "\n",
        "DANNY\n",
        "Hey Edie, how about you and me balling it up in Albuquerque?\n",
        "\n",
        "EDITH\n",
        "Albuquerque? Have you read that flight schedule Boy?\n",
        "\n",
        "DANNY\n",
        "What about it?\n",
        "\n",
        "EDITH\n",
        "We land in Albuquerque at 4 am. That's strictly a nine o' clock town.\n",
        "\n",
        "DANNY\n",
        "Well I know a friend that'll help us --\n",
        "\n",
        "EDITH\n",
        "Let's have a problem first, huh Danny.\n",
        "\n",
        "DANNY\n",
        "Ah he's worried about Paula.\n",
        "\n",
        "EDITH\n",
        "I read about that cemetery business. I tried to get you kids to not buy too near\n",
        "one of those things. We get there soon enough as it is.\n",
        "\n",
        "DANNY\n",
        "He thought it'd be quiet and peaceful there.\n",
        "\n",
        "EDITH\n",
        "No doubt about that. It's quiet alright, like a tomb. I'm sorry Jeff, that was a\n",
        "bad joke.\n",
        "\n",
        "Example 2.\n",
        "Place: {PLACE_NAME}\n",
        "Description: {PLACE_DESCRIPTION}\n",
        "Characters: {CHARACTER_DESCRIPTIONS}\n",
        "Plot element: {PLOT_ELEMENT}\n",
        "Summary: {LOG_LINE}\n",
        "Previous beat: {PREVIOUS_BEAT}\n",
        "Beat: {BEAT}\n",
        "<dialog>\"\"\"\n",
        "\n",
        "dialogs = []\n",
        "for idx, beat_info in enumerate(story_beats):\n",
        "\n",
        "  if idx == 0:\n",
        "    previous_beat = ''\n",
        "  else:\n",
        "    previous_beat = story_beats[idx-1]['beat']\n",
        "\n",
        "  prompt = dialog_prompt.format(PLACE_NAME=beat_info['place'], \n",
        "                            PLACE_DESCRIPTION=location_descriptions, \n",
        "                            LOG_LINE=log_line, \n",
        "                            CHARACTER_DESCRIPTIONS=character_descriptions_prompt_section,\n",
        "                            PLOT_ELEMENT=beat_info['plot_element'],\n",
        "                            PREVIOUS_BEAT=previous_beat,\n",
        "                            BEAT = beat_info['beat'])\n",
        "  \n",
        "  dialog = generate(prompt, num_generations=1, temperature=1.1, max_tokens=500)['generation']\n",
        "  dialogs.append(dialog)\n"
      ]
    },
    {
      "cell_type": "code",
      "execution_count": null,
      "metadata": {
        "colab": {
          "base_uri": "https://localhost:8080/"
        },
        "id": "kPW1HrCxPr0I",
        "outputId": "5aa3e765-451d-4719-a54a-710d07e7a2f2"
      },
      "outputs": [],
      "source": [
        "print(dialogs[0].values[0])"
      ]
    },
    {
      "cell_type": "code",
      "execution_count": null,
      "metadata": {
        "id": "Cdk2VNZ7opq-"
      },
      "outputs": [],
      "source": []
    }
  ],
  "metadata": {
    "colab": {
      "provenance": []
    },
    "kernelspec": {
      "display_name": "Python 3.10.3 ('venv': venv)",
      "language": "python",
      "name": "python3"
    },
    "language_info": {
      "codemirror_mode": {
        "name": "ipython",
        "version": 3
      },
      "file_extension": ".py",
      "mimetype": "text/x-python",
      "name": "python",
      "nbconvert_exporter": "python",
      "pygments_lexer": "ipython3",
      "version": "3.10.3"
    },
    "vscode": {
      "interpreter": {
        "hash": "a360b78c71b5f49ff292419317a20d8854e0163ad331d295b8b4eaeec07fff6f"
      }
    }
  },
  "nbformat": 4,
  "nbformat_minor": 0
}
