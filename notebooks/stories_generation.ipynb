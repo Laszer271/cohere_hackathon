{
 "cells": [
  {
   "cell_type": "code",
   "execution_count": 1,
   "id": "38f111a0",
   "metadata": {},
   "outputs": [],
   "source": [
    "import cohere\n",
    "import json\n",
    "import io\n",
    "import warnings\n",
    "\n",
    "import pandas as pd\n",
    "from IPython.display import display\n",
    "from PIL import Image\n",
    "\n",
    "from stability_sdk import client\n",
    "import stability_sdk.interfaces.gooseai.generation.generation_pb2 as generation\n",
    "\n",
    "import sys\n",
    "if '..' not in sys.path:\n",
    "    sys.path.append('..')\n",
    "    \n",
    "import os\n",
    "import random\n",
    "import numpy as np\n",
    "\n",
    "\n",
    "from app.story_generator.segmentation import StoryDivider"
   ]
  },
  {
   "cell_type": "code",
   "execution_count": 2,
   "id": "c17793be-d946-4e5a-851d-39201af6b6eb",
   "metadata": {},
   "outputs": [],
   "source": [
    "def get_random_story():\n",
    "    stories_path = os.path.join(os.path.abspath(''), os.pardir,\n",
    "                                \"data\", \"stories\", \"fairy_tales.json\")\n",
    "    with open(stories_path, \"rb\") as f:\n",
    "        stories = json.load(f)\n",
    "        example_story = random.choice(stories)\n",
    "    return example_story\n",
    "\n",
    "\n",
    "def get_segmented_story(n_pages=None, sentences_per_page=3):\n",
    "    story = get_random_story()\n",
    "    seg = StoryDivider(story[\"title\"], story[\"text\"])\n",
    "    segmented = seg.divide_story_into_segments(n_pages=n_pages, sentences_per_page=sentences_per_page)\n",
    "    # print(segmented)\n",
    "    return seg.story_id, segmented"
   ]
  },
  {
   "cell_type": "markdown",
   "id": "c3a6ced5",
   "metadata": {},
   "source": [
    "# APIs"
   ]
  },
  {
   "cell_type": "code",
   "execution_count": 3,
   "id": "80c32711-8021-43ae-acb1-a2332a69e682",
   "metadata": {},
   "outputs": [],
   "source": [
    "with open('../cohere_api_key.txt', 'r') as f:\n",
    "    cohere_api_key = f.read()\n",
    "co = cohere.Client(cohere_api_key)\n",
    "\n",
    "with open('../stability_api_key.txt', 'r') as f:\n",
    "    stability_api_key = f.read()\n",
    "stability_api = client.StabilityInference(\n",
    "    key=stability_api_key, \n",
    "    verbose=True,\n",
    ")\n",
    "\n",
    "del cohere_api_key\n",
    "del stability_api_key"
   ]
  },
  {
   "cell_type": "markdown",
   "id": "75020b35",
   "metadata": {},
   "source": [
    "# EDA"
   ]
  },
  {
   "cell_type": "code",
   "execution_count": 4,
   "id": "60691af1",
   "metadata": {},
   "outputs": [],
   "source": [
    "# with open('../data/stories/fairy_tales.json') as f:\n",
    "#     data = json.load(f)\n",
    "#     # text = data['text']\n",
    "#     # print(type(text), len(text))\n",
    "# data = data[0]\n",
    "# title = data['title']\n",
    "# text = data['text']\n",
    "# text"
   ]
  },
  {
   "cell_type": "code",
   "execution_count": 5,
   "id": "275800b3-a518-4f64-97d5-1498be743209",
   "metadata": {},
   "outputs": [],
   "source": [
    "# story_title_1, random_story_1 = get_segmented_story(sentences_per_page=5)\n",
    "# random_story_2 = random_story_1\n",
    "\n",
    "# while random_story_1[0] == random_story_2[0]:\n",
    "#     story_title_2, random_story_2 = get_segmented_story(sentences_per_page=5)"
   ]
  },
  {
   "cell_type": "markdown",
   "id": "4d68574f",
   "metadata": {},
   "source": [
    "# Generating stories"
   ]
  },
  {
   "cell_type": "code",
   "execution_count": 6,
   "id": "71dab670",
   "metadata": {},
   "outputs": [],
   "source": [
    "def generate(prompt, model=\"xlarge\", \n",
    "             num_generations=5, temperature=0.7, \n",
    "             max_tokens=2000, stop_sequences=['<end>'], **kwargs):\n",
    "             \n",
    "  prediction = co.generate(\n",
    "    model=model,\n",
    "    prompt=prompt,\n",
    "    return_likelihoods = 'GENERATION',\n",
    "    stop_sequences=stop_sequences,\n",
    "    max_tokens=max_tokens,\n",
    "    temperature=temperature,\n",
    "    num_generations=num_generations,\n",
    "    **kwargs)\n",
    "  \n",
    "  # Get list of generations\n",
    "  gens = []\n",
    "  likelihoods = []\n",
    "  for gen in prediction.generations:\n",
    "      gens.append(gen.text)\n",
    "      \n",
    "      sum_likelihood = 0\n",
    "      for t in gen.token_likelihoods:\n",
    "          sum_likelihood += t.likelihood\n",
    "      # Get sum of likelihoods\n",
    "      likelihoods.append(sum_likelihood)\n",
    "\n",
    "  pd.options.display.max_colwidth = 200\n",
    "  # Create a dataframe for the generated sentences and their likelihood scores\n",
    "  df = pd.DataFrame({'generation': gens, 'likelihood': likelihoods})\n",
    "  # Drop duplicates\n",
    "  df = df.drop_duplicates(subset=['generation'])\n",
    "  # Sort by highest sum likelihood\n",
    "  df = df.sort_values('likelihood', ascending=False, ignore_index=True)\n",
    "  \n",
    "  return df"
   ]
  },
  {
   "cell_type": "code",
   "execution_count": 7,
   "id": "b3c2122d",
   "metadata": {
    "colab": {
     "base_uri": "https://localhost:8080/"
    },
    "id": "JUPDnAyKRbnK",
    "outputId": "adda1e5a-9650-498a-a24c-cd23ac4a9621"
   },
   "outputs": [],
   "source": [
    "def generate_image(image_prompt):\n",
    "  # the object returned is a python generator\n",
    "  answers = stability_api.generate(\n",
    "      prompt=image_prompt\n",
    "  )\n",
    "\n",
    "  # iterating over the generator produces the api response\n",
    "  for resp in answers:\n",
    "      for artifact in resp.artifacts:\n",
    "          if artifact.finish_reason == generation.FILTER:\n",
    "              warnings.warn(\n",
    "                  \"Your request activated the API's safety filters and could not be processed.\"\n",
    "                  \"Please modify the prompt and try again.\")\n",
    "          if artifact.type == generation.ARTIFACT_IMAGE:\n",
    "              img = Image.open(io.BytesIO(artifact.binary))\n",
    "              display(img)\n"
   ]
  },
  {
   "cell_type": "code",
   "execution_count": 8,
   "id": "2f148fce-7bb9-446a-a427-93ec6c1aa361",
   "metadata": {},
   "outputs": [],
   "source": [
    "# prompt = \"\"\"\"Illustration of open blank book for children icon, stock image\n",
    "# \"\"\"\n",
    "\n",
    "# generate_image(prompt)"
   ]
  },
  {
   "cell_type": "code",
   "execution_count": 9,
   "id": "cef9c3ec-a644-4063-acfb-7b7e73927fbd",
   "metadata": {},
   "outputs": [],
   "source": [
    "def add_newline_at_the_end(text):\n",
    "    if text[-1] != '\\n':\n",
    "        text += '\\n'\n",
    "    return text\n",
    "\n",
    "# def generate_prompt_for_story(header: str,  examples: list, titles: list = None, story_title: str = None,\n",
    "#                                     pre_example_string: str = 'Answer: ', stop_token: str ='<end>', max_tokens: int = 1000):\n",
    "#     prompt = add_newline_at_the_end(header)\n",
    "    \n",
    "#     for i, ex in enumerate(examples):\n",
    "#         if titles is not None:\n",
    "#             prompt += 'Title: ' + add_newline_at_the_end(titles[i])\n",
    "#         prompt += pre_example_string\n",
    "#         prompt += add_newline_at_the_end(ex)\n",
    "#         prompt += add_newline_at_the_end(stop_token)\n",
    "        \n",
    "#     if titles is not None:\n",
    "#         prompt += 'Title: '\n",
    "#         if story_title is not None:\n",
    "#             prompt += add_newline_at_the_end(story_title)\n",
    "#             prompt += pre_example_string\n",
    "#     else:\n",
    "#         prompt += pre_example_string\n",
    "    \n",
    "    \n",
    "#     estimated_tokens_number = len(prompt.split(' ')) + len(ex.split(' '))\n",
    "#     estimated_tokens_number *= 2 # let's assume word is on averate 2 tokens\n",
    "#     assert estimated_tokens_number < max_tokens, f'Estimated number of tokens was {estimated_tokens_number} which is more than specified max number of tokens ({max_tokens})' \n",
    "    \n",
    "#     return prompt"
   ]
  },
  {
   "cell_type": "code",
   "execution_count": 10,
   "id": "0282b41f-8f11-4af8-ba93-52caa64b6c45",
   "metadata": {},
   "outputs": [],
   "source": [
    "def get_n_stories(n=3):\n",
    "    stories_path = os.path.join(os.path.abspath(''), os.pardir,\n",
    "                                \"data\", \"stories\", \"fairy_tales.json\")\n",
    "    with open(stories_path, \"rb\") as f:\n",
    "        stories = json.load(f)\n",
    "        assert n <= len(stories), f'Tried to get {n} stories while is only {len(stories)} stories in the database'\n",
    "        example_stories = list(np.random.choice(stories, size=n, replace=False))\n",
    "        \n",
    "    return example_stories\n",
    "\n",
    "def get_segment_of_stories(stories: list, segment_idx: int, handle_too_big_index=True,\n",
    "                           n_pages=None, sentences_per_page=3):\n",
    "    segmented_stories = []\n",
    "    for s in stories:\n",
    "        seg = StoryDivider(s[\"title\"], s[\"text\"])\n",
    "        segmented = seg.divide_story_into_segments(n_pages=n_pages, sentences_per_page=sentences_per_page)\n",
    "        if handle_too_big_index and segment_idx >= len(segmented):\n",
    "            index = len(segmented) - 2\n",
    "            \n",
    "        segmented_stories.append({'title': seg.story_id, 'text': segmented[segment_idx]})\n",
    "        \n",
    "    return segmented_stories\n",
    "\n",
    "def generate_prompt_for_story(stories: list, keys_to_use: list, header: str, parameters: list = None,  \n",
    "                                    stop_token: str ='<end>', max_tokens: int = 2048):\n",
    "    assert parameters is None or len(parameters) == len(keys_to_use) - 1\n",
    "    # assert keys_to_use[-1] == 'text'    \n",
    "    \n",
    "    if header:\n",
    "        prompt = add_newline_at_the_end(header) + '\\n'\n",
    "    else: \n",
    "        prompt = ''\n",
    "    \n",
    "    avg_story_length = 0\n",
    "    for i, story in enumerate(stories):\n",
    "        avg_story_length += len(story[keys_to_use[-1]])\n",
    "        for key in keys_to_use:\n",
    "            prompt += f'{key.title()}: {story[key]}'\n",
    "            prompt = add_newline_at_the_end(prompt)\n",
    "        prompt += add_newline_at_the_end(stop_token)\n",
    "    avg_story_length = avg_story_length // len(stories)\n",
    "        \n",
    "    for key, param in zip(keys_to_use[:-1], parameters):\n",
    "        prompt += f'{key.title()}: '\n",
    "        if not param:\n",
    "            break\n",
    "        else:\n",
    "            prompt += add_newline_at_the_end(param)\n",
    "    \n",
    "    if param:\n",
    "        prompt += f'{keys_to_use[-1].title()}: '\n",
    "            \n",
    "    estimated_tokens_number = len(prompt.split(' ')) + avg_story_length\n",
    "    estimated_tokens_number *= 2 # let's assume word is on averate 2 tokens\n",
    "    assert estimated_tokens_number < max_tokens, f'Estimated number of tokens was {estimated_tokens_number} which is more than specified max number of tokens ({max_tokens})' \n",
    "    \n",
    "    return prompt\n",
    "\n",
    "def print_result(result, parameters, keys_used, max_words=1500):\n",
    "    starting_string = ''\n",
    "    break_used = False\n",
    "    for param, key in zip(parameters, keys_used[:-1]):\n",
    "        starting_string += f'{key.title()}: '\n",
    "        if param:\n",
    "            starting_string += param\n",
    "        else: \n",
    "            break_used = True\n",
    "            break\n",
    "\n",
    "        starting_string = add_newline_at_the_end(starting_string)\n",
    "\n",
    "    if not break_used:\n",
    "        starting_string += f'{keys_used[-1].title()}:'\n",
    "\n",
    "    for i, row in result.iterrows():\n",
    "        print('-'*50)\n",
    "        print('likelihood:', row['likelihood'])\n",
    "\n",
    "        text = starting_string + row[\"generation\"]\n",
    "        if len(text.split(' ')) > max_words:\n",
    "            print('Text too long')\n",
    "            continue\n",
    "        print(text)"
   ]
  },
  {
   "cell_type": "code",
   "execution_count": 11,
   "id": "010eaffb-f4fd-4132-88f9-da64c08f7a44",
   "metadata": {},
   "outputs": [],
   "source": [
    "MAX_TOKENS = 200\n",
    "STOP_SEQUENCES = ['<end>']\n",
    "TEMPERATURE = 0.2\n",
    "MODEL = 'xlarge'\n",
    "MIN_P = 0.8\n",
    "FREQ_PENALTY = 0.3\n",
    "PRESENCE_PENALTY = 0.5"
   ]
  },
  {
   "cell_type": "markdown",
   "id": "2c273d7b-66cf-457b-9d68-2b672aec73c4",
   "metadata": {},
   "source": [
    "<h2>Generating beginning of the story</h2>"
   ]
  },
  {
   "cell_type": "code",
   "execution_count": 12,
   "id": "6d1a2823-cc73-48fd-ba9e-da7b64bc9fa6",
   "metadata": {},
   "outputs": [
    {
     "name": "stdout",
     "output_type": "stream",
     "text": [
      "Exercise: Generate the beginning of the story for children based on a information given.\n",
      "\n",
      "Title: The Little Mermaid\n",
      "Text: Once upon a time, far out in the deep ocean where the water is very clear and blue, a sea king ruled the undersea world and the sea folk. The undersea world had beautiful trees and colorful flowers. There were beautiful sea creatures and all sorts of fish too\n",
      "<end>\n",
      "Title: Hansel and Gretel\n",
      "Text: Once upon a time, a brother and sister named Hansel and Gretel lived in a hut in the woods with their father who was a poor woodcutter and their mother. Their parents were very poor and had barely enough food to eat One day, their parents sent them off into the woods in search of greener pastures. Their mother cried as she sent them off but they could not take care of them any longer\n",
      "<end>\n",
      "Title: Red Riding Hood\n",
      "Text: Once upon a time, there was a little girl who lived with her mother very close to the woods. The little girl was called Little Red Riding Hood because of the red hat her grandmother gifted her. She liked this hat very much and wore it everywhere\n",
      "<end>\n",
      "Title: The Fearsome Princess And A Cowardly Dragon\n",
      "Text: \n"
     ]
    }
   ],
   "source": [
    "example_stories = get_n_stories(3)\n",
    "example_beginnings = get_segment_of_stories(example_stories, 0)\n",
    "\n",
    "keys_to_use = ['title', 'text']\n",
    "header = 'Exercise: Generate the beginning of the story for children based on a information given.'\n",
    "title = 'the fearsome princess and a cowardly dragon'.title()\n",
    "parameters = [title]\n",
    "\n",
    "prompt = generate_prompt_for_story(example_beginnings, keys_to_use, header, parameters, stop_token=STOP_SEQUENCES[0])\n",
    "print(prompt)"
   ]
  },
  {
   "cell_type": "code",
   "execution_count": 13,
   "id": "1dbcd811-1743-46bc-98e4-2c2262e993bb",
   "metadata": {},
   "outputs": [],
   "source": [
    "# len(prompt)"
   ]
  },
  {
   "cell_type": "code",
   "execution_count": 14,
   "id": "f7affb95-588a-4b1c-a5af-e8e0eaaf61ef",
   "metadata": {},
   "outputs": [],
   "source": [
    "# examples = [random_story_1[0], random_story_2[0]]\n",
    "# titles = [story_title_1, story_title_2]\n",
    "# story_title = 'The Dragon and prince penguin' # should be None if there is \n",
    "# MAX_TOKENS = 1000"
   ]
  },
  {
   "cell_type": "code",
   "execution_count": 15,
   "id": "9a2c48f7-5f5d-425c-91bd-26fdb2b8dd93",
   "metadata": {},
   "outputs": [],
   "source": [
    "# prompt = generate_prompt_for_story(header, examples, titles=titles, story_title=story_title)"
   ]
  },
  {
   "cell_type": "code",
   "execution_count": 16,
   "id": "98823dd3-aa37-46bd-a28b-cffa3e122424",
   "metadata": {},
   "outputs": [
    {
     "name": "stderr",
     "output_type": "stream",
     "text": [
      "\u001b[93mWarning: Your text contains a trailing whitespace, which has been trimmed to ensure high quality generations.\n",
      "\u001b[0m\n"
     ]
    }
   ],
   "source": [
    "beg_result = generate(\n",
    "    prompt,\n",
    "    max_tokens=MAX_TOKENS,\n",
    "    stop_sequences=STOP_SEQUENCES,\n",
    "    temperature=TEMPERATURE,\n",
    "    model=MODEL, \n",
    "    p=MIN_P,\n",
    "    frequency_penalty=FREQ_PENALTY,\n",
    "    presence_penalty=PRESENCE_PENALTY\n",
    ")"
   ]
  },
  {
   "cell_type": "code",
   "execution_count": 17,
   "id": "9cfccd7e-88f1-4ae5-b8fc-5968c6e3aadb",
   "metadata": {},
   "outputs": [],
   "source": [
    "# beg_result.iloc[0]['generation']"
   ]
  },
  {
   "cell_type": "code",
   "execution_count": 18,
   "id": "08f22e4e-a7df-46c4-9345-80a18f8d3d17",
   "metadata": {},
   "outputs": [
    {
     "name": "stdout",
     "output_type": "stream",
     "text": [
      "--------------------------------------------------\n",
      "likelihood: -53.71794888650001\n",
      "Title: The Fearsome Princess And A Cowardly Dragon\n",
      "Text: Once upon a time, there lived a princess who was so beautiful that everyone loved her. She was so beautiful that she had many suitors from all over the kingdom but she refused to marry any of them because she wanted to marry someone who would love her for herself alone\n",
      "<end>\n",
      "--------------------------------------------------\n",
      "likelihood: -58.749948102500014\n",
      "Title: The Fearsome Princess And A Cowardly Dragon\n",
      "Text: Once upon a time, there was an evil princess who lived in a castle surrounded by high walls. She was so evil that she would kill anyone who dared to come close to her castle. She also had an army of soldiers who would do anything for her including killing people at her command\n",
      "<end>\n",
      "--------------------------------------------------\n",
      "likelihood: -83.55827921169998\n",
      "Title: The Fearsome Princess And A Cowardly Dragon\n",
      "Text: There was once an evil princess who lived in an old castle on top of a mountain. She was so evil that she wanted to rule over everything around her. She wanted to be queen over all living things around her. She wanted to be queen over all living things around her. She wanted to be queen over all living things around her. She wanted to be queen over all living things around her. She wanted to be queen over all living things around her. She wanted to be queen over all living things around her. She wanted to be queen over all living things around her. She wanted to be queen over all living things around her. She wanted to be queen over all living things around her. She wanted to be queen over all living things around her. She wanted to be queen over all living things around her. She wanted to be queen over all living things around her. She wanted to be queen over all living things around her. She wanted to be queen over all living things around her.\n",
      "--------------------------------------------------\n",
      "likelihood: -160.79906865876995\n",
      "Title: The Fearsome Princess And A Cowardly Dragon\n",
      "Text: Once upon a time, there was a fearsome princess who lived in an enchanted castle surrounded by high walls that no one could scale. She had everything she wanted except for one thing – she did not have any friends to play with. Her father was always busy with his work as king so he did not have much time for her either One day, when she was walking around her castle grounds looking for someone to play with, she came across an old woman who told her about an enchanted dragon living nearby who would be perfect for playing with! So off went the princess on an adventure to find this dragon…but what will happen when they meet? Will he be as fearsome as everyone says or will he turn out to be just another cowardly creature? Read on to find out!\n",
      "<end>\n",
      "--------------------------------------------------\n",
      "likelihood: -210.1337965609201\n",
      "Title: The Fearsome Princess And A Cowardly Dragon\n",
      "Text: Once upon a time, there was a fearsome princess who lived in an enchanted castle in an enchanted forest. She had everything she wanted except for one thing – she did not have any friends to play with or talk to. One day while walking through her garden, she saw something moving behind some bushes… It turned out to be a cowardly dragon! He told her that he would do anything for her if only she would let him live in peace at his home by himself without being bothered by anyone else ever again… So they agreed on this deal… But then later on when he found out what kind of person his new friend really was (a mean-spirited bully), he decided not to keep up his end of the bargain anymore because he knew that if he did then eventually everyone else would find out about it too which would make things even worse than before! So instead he ran away from home never looking back once more until one day when someone came knocking\n"
     ]
    }
   ],
   "source": [
    "print_result(beg_result, parameters, keys_to_use, max_words=500)"
   ]
  },
  {
   "cell_type": "markdown",
   "id": "a4f55ecc-79eb-4045-b7c4-2fc14e337030",
   "metadata": {},
   "source": [
    "<h2>Generating continuation - strategy 1: Structured prompt</h2>"
   ]
  },
  {
   "cell_type": "code",
   "execution_count": 19,
   "id": "9ae3064e-0d81-424e-8989-c2422406494f",
   "metadata": {},
   "outputs": [
    {
     "name": "stdout",
     "output_type": "stream",
     "text": [
      "Exercise: Generate the continuation of the story for children based on the title and previous part given.\n",
      "\n",
      "Title: The Little Mermaid\n",
      "Previous Part: Once upon a time, far out in the deep ocean where the water is very clear and blue, a sea king ruled the undersea world and the sea folk. The undersea world had beautiful trees and colorful flowers. There were beautiful sea creatures and all sorts of fish too\n",
      "Continuation:  The sea folk lived in harmony. The sea king, King Triton lived in his sea castle with his mother and his four daughters. The castle walls were made of blue coral and the roof shells opened whenever the water passed by\n",
      "<end>\n",
      "Title: The Fearsome Princess And A Cowardly Dragon\n",
      "Previous Part:  Once upon a time, there lived a princess who was so beautiful that everyone loved her. She was so beautiful that she had many suitors from all over the kingdom but she refused to marry any of them because she wanted to marry someone who would love her for herself alone\n",
      "Continuation: \n"
     ]
    }
   ],
   "source": [
    "example_continuations = get_segment_of_stories(example_stories, 1)\n",
    "example_continuations = example_continuations[:1]\n",
    "for i, cont in enumerate(example_continuations):\n",
    "    cont['Previous Part'] = example_beginnings[i]['text']\n",
    "    cont['Continuation'] = cont['text']\n",
    "    del cont['text']\n",
    "\n",
    "keys_to_use = ['title', 'Previous Part', 'Continuation']\n",
    "header = 'Exercise: Generate the continuation of the story for children based on the title and previous part given.'\n",
    "parameters = [title, beg_result.iloc[0]['generation'].replace(STOP_SEQUENCES[0], '')]\n",
    "\n",
    "\n",
    "prompt = generate_prompt_for_story(example_continuations, keys_to_use, header, parameters)\n",
    "print(prompt)"
   ]
  },
  {
   "cell_type": "code",
   "execution_count": 20,
   "id": "c570d54c-94a1-4d40-89cf-7a9ec7045b9d",
   "metadata": {},
   "outputs": [
    {
     "name": "stderr",
     "output_type": "stream",
     "text": [
      "\u001b[93mWarning: Your text contains a trailing whitespace, which has been trimmed to ensure high quality generations.\n",
      "\u001b[0m\n"
     ]
    }
   ],
   "source": [
    "cont_result = generate(\n",
    "    prompt,\n",
    "    max_tokens=MAX_TOKENS,\n",
    "    stop_sequences=STOP_SEQUENCES,\n",
    "    temperature=TEMPERATURE,\n",
    "    model=MODEL,\n",
    "    p=MIN_P,\n",
    "    frequency_penalty=FREQ_PENALTY,\n",
    "    presence_penalty=PRESENCE_PENALTY\n",
    ")"
   ]
  },
  {
   "cell_type": "code",
   "execution_count": 21,
   "id": "d3c3aa83-df23-4de3-ab79-c347b76f88ee",
   "metadata": {},
   "outputs": [
    {
     "name": "stdout",
     "output_type": "stream",
     "text": [
      "--------------------------------------------------\n",
      "likelihood: -60.631498093000005\n",
      "Title: The Fearsome Princess And A Cowardly Dragon\n",
      "Previous Part:  Once upon a time, there lived a princess who was so beautiful that everyone loved her. She was so beautiful that she had many suitors from all over the kingdom but she refused to marry any of them because she wanted to marry someone who would love her for herself alone\n",
      "Continuation:  One day, when she was out riding her horse through the forest, she came across an old woman sitting under a tree eating some berries. The princess asked her what she was doing there all alone in such a desolate place? The old woman replied that she was waiting for someone special to come along so that they could share their lives together forevermore\n",
      "<end>\n",
      "--------------------------------------------------\n",
      "likelihood: -105.11941399952998\n",
      "Title: The Fearsome Princess And A Cowardly Dragon\n",
      "Previous Part:  Once upon a time, there lived a princess who was so beautiful that everyone loved her. She was so beautiful that she had many suitors from all over the kingdom but she refused to marry any of them because she wanted to marry someone who would love her for herself alone\n",
      "Continuation:  One day while walking through the forest with her maids-in-waiting, they came across a dragon's lair where they found an old man sitting on a rock crying because he had lost his wife who had been taken away by this fearsome princess who lived nearby in another castle with her father who was also very cruel towards people especially those who tried to help others or those who tried to help themselves by trying to escape from their cruel father's clutches\n",
      "<end>\n",
      "--------------------------------------------------\n",
      "likelihood: -125.42481371759996\n",
      "Title: The Fearsome Princess And A Cowardly Dragon\n",
      "Previous Part:  Once upon a time, there lived a princess who was so beautiful that everyone loved her. She was so beautiful that she had many suitors from all over the kingdom but she refused to marry any of them because she wanted to marry someone who would love her for herself alone\n",
      "Continuation:  One day, while walking through her garden, she saw a dragon sleeping on top of an old tree stump. She went up to him and said \"I want you to be my husband.\" But he just looked at her with his big eyes closed and did not say anything at all! So she left him there thinking that maybe he was too afraid to speak or maybe he did not want her as his wife after all! But then again maybe he was just waiting for someone else like himself? So she went back home feeling sad about what might have happened if only he had spoken up sooner…<end>\n",
      "--------------------------------------------------\n",
      "likelihood: -137.42501671829996\n",
      "Title: The Fearsome Princess And A Cowardly Dragon\n",
      "Previous Part:  Once upon a time, there lived a princess who was so beautiful that everyone loved her. She was so beautiful that she had many suitors from all over the kingdom but she refused to marry any of them because she wanted to marry someone who would love her for herself alone\n",
      "Continuation:  One day, while walking through her garden, she saw an old man sitting under a tree reading a book. She went up to him and asked what he was reading. He replied that he was reading about dragons. She asked him if he knew anything about dragons and he told her that he did not know anything about them but he could tell her what he read in his book. He told her that dragons were very powerful creatures who could breathe fire and fly through the air like birds. They were also very dangerous because they could kill anyone who got in their way or tried to harm them in any way. He also told her that dragons were very intelligent creatures who could speak human languages fluently. He also told her that dragons were very loyal creatures who would always protect their masters from harm even if it meant sacrificing their own lives for their masters' sake. He also told her that dragons were very wise creatures who knew everything about everything including human beings' weaknesses and strengths as well as human beings'\n",
      "--------------------------------------------------\n",
      "likelihood: -140.78781789775994\n",
      "Title: The Fearsome Princess And A Cowardly Dragon\n",
      "Previous Part:  Once upon a time, there lived a princess who was so beautiful that everyone loved her. She was so beautiful that she had many suitors from all over the kingdom but she refused to marry any of them because she wanted to marry someone who would love her for herself alone\n",
      "Continuation:  One day, while walking through her garden, she saw a dragon sleeping on top of an old tree trunk. She went up to him and said \"Hello! What are you doing here?\" The dragon replied \"I am waiting for my master to come back from battle so I can eat him.\" The princess laughed at this but then realized that if he did not eat his master then he would starve to death so she said \"I will give you something better than your master's flesh!\" She gave him some bread which he ate greedily and then fell asleep again. When he woke up again, he thanked her for saving his life but before leaving told her never to come near him again or else he would eat her too! Since then they have been friends forevermore! <end>\n"
     ]
    }
   ],
   "source": [
    "print_result(cont_result, parameters, keys_to_use, max_words=500)"
   ]
  },
  {
   "cell_type": "markdown",
   "id": "27152642-19bf-4d5c-becc-26be8aded6a3",
   "metadata": {},
   "source": [
    "<h2>Generating continuation - strategy 2: No examples</h2>"
   ]
  },
  {
   "cell_type": "code",
   "execution_count": 22,
   "id": "d53da147-4065-4f56-a3b2-78e638daeffa",
   "metadata": {},
   "outputs": [
    {
     "name": "stdout",
     "output_type": "stream",
     "text": [
      "Story title: The Fearsome Princess And A Cowardly Dragon\n",
      " Once upon a time, there lived a princess who was so beautiful that everyone loved her. She was so beautiful that she had many suitors from all over the kingdom but she refused to marry any of them because she wanted to marry someone who would love her for herself alone\n",
      "\n"
     ]
    }
   ],
   "source": [
    "# prompt\n",
    "prompt = f'Story title: {parameters[0]}\\n'\n",
    "prompt += beg_result.iloc[0]['generation'].replace(STOP_SEQUENCES[0], '')\n",
    "print(prompt)"
   ]
  },
  {
   "cell_type": "code",
   "execution_count": 23,
   "id": "67a5839c-8bd8-40f3-b35e-0e70184eeb51",
   "metadata": {},
   "outputs": [
    {
     "name": "stderr",
     "output_type": "stream",
     "text": [
      "\u001b[93mWarning: Your text contains a trailing whitespace, which has been trimmed to ensure high quality generations.\n",
      "\u001b[0m\n"
     ]
    }
   ],
   "source": [
    "cont_result_2 = generate(\n",
    "    prompt,\n",
    "    max_tokens=MAX_TOKENS,\n",
    "    stop_sequences=STOP_SEQUENCES,\n",
    "    temperature=TEMPERATURE,\n",
    "    model=MODEL,\n",
    "    p=MIN_P,\n",
    "    frequency_penalty=FREQ_PENALTY,\n",
    "    presence_penalty=PRESENCE_PENALTY\n",
    ")"
   ]
  },
  {
   "cell_type": "code",
   "execution_count": 24,
   "id": "0d1b2679-d17c-4a35-a100-af4c7adc6584",
   "metadata": {},
   "outputs": [
    {
     "name": "stdout",
     "output_type": "stream",
     "text": [
      "--------------------------------------------------\n",
      "Story title: The Fearsome Princess And A Cowardly Dragon\n",
      " Once upon a time, there lived a princess who was so beautiful that everyone loved her. She was so beautiful that she had many suitors from all over the kingdom but she refused to marry any of them because she wanted to marry someone who would love her for herself alone\n",
      " and not for her beauty.\n",
      "\n",
      "One day, the princess heard about a dragon who lived in a cave in the forest. The princess decided to go into the forest and find this dragon. When she got to the cave, she saw the dragon sleeping. The princess went up to the dragon and said, \"I am the most beautiful woman in the world.\" The dragon woke up and said, \"I am the most fearsome creature in the world.\" The princess said, \"I am afraid of you.\" The dragon said, \"I am afraid of you.\" The princess said, \"I will give you my hand in marriage if you promise to love me for myself alone.\" The dragon said, \"I will give you my hand in marriage if you promise to love me for myself alone.\" The princess said, \"I will give you my hand in marriage if you promise to love me for myself alone.\" The dragon said, \"I will give you my hand in marriage if you promise to\n",
      "--------------------------------------------------\n",
      "Story title: The Fearsome Princess And A Cowardly Dragon\n",
      " Once upon a time, there lived a princess who was so beautiful that everyone loved her. She was so beautiful that she had many suitors from all over the kingdom but she refused to marry any of them because she wanted to marry someone who would love her for herself alone\n",
      " and not for her beauty. One day, a dragon came to the palace and demanded to marry the princess. The king was furious at this demand but the princess said that she would marry the dragon if he could defeat her in a duel. The dragon accepted the challenge and they fought each other until the dragon was defeated. The princess married him and they lived happily ever after.\n",
      "\n",
      "==Sources==\n",
      "*  Folktales of China\n",
      "*  Chinese Fairy Tales and Fantasies by Wolfram Eberhard (1983)\n",
      "*  Chinese Fairy Tales and Fantasies by Wolfram Eberhard (1983)\n",
      "*  The Fearsome Princess and Other Chinese Stories by Wolfram Eberhard (1966)\n",
      "*  The Fearsome Princess and Other Chinese Stories by Wolfram Eberhard (1966)\n",
      "*  The Fearsome Princess and Other Chinese Stories by Wolfram Eberhard (1966)\n",
      "*  The F\n",
      "--------------------------------------------------\n",
      "Story title: The Fearsome Princess And A Cowardly Dragon\n",
      " Once upon a time, there lived a princess who was so beautiful that everyone loved her. She was so beautiful that she had many suitors from all over the kingdom but she refused to marry any of them because she wanted to marry someone who would love her for herself alone\n",
      " and not for her beauty.\n",
      "\n",
      "One day, the princess decided to go on an adventure in search of her prince charming. She packed some food and water in a bag and set out on her journey. As she was walking, she came across a dragon who was sleeping by the roadside. The princess was scared of the dragon and tried to run away but the dragon woke up and started chasing after her. She ran as fast as she could but the dragon was faster than her and soon caught up with her. The princess begged for mercy but the dragon just laughed at her and said, \"I will only spare your life if you give me your food and water.\" The princess had no choice but to give up her food and water to the dragon in order to save her life.\n",
      "\n",
      "The princess continued on her journey without food or water but soon became very tired and weak. She sat down under a tree to rest when suddenly, she heard someone calling out for help. She looked\n",
      "--------------------------------------------------\n",
      "Story title: The Fearsome Princess And A Cowardly Dragon\n",
      " Once upon a time, there lived a princess who was so beautiful that everyone loved her. She was so beautiful that she had many suitors from all over the kingdom but she refused to marry any of them because she wanted to marry someone who would love her for herself alone\n",
      " and not for her beauty.\n",
      "\n",
      "One day, a dragon came to the princess and told her that he would marry her if she would agree to live with him in his castle. The princess agreed and they got married.\n",
      "\n",
      "The princess loved the dragon very much but he did not love her back. He only loved himself and his own beauty. He would always tell the princess how ugly she was and how much better looking he was than her. The princess became very sad because of this but she could not leave him because he was a dragon and could kill anyone who tried to hurt him or his wife.\n",
      "\n",
      "One day, the princess found out that the dragon was planning to kill her so that he could marry another woman who was even more beautiful than she was. She became very angry when she heard this and decided to kill the dragon first before he could kill her. She went into his castle and found him sleeping on his bed of gold coins which were given to him by his subjects\n",
      "--------------------------------------------------\n",
      "Story title: The Fearsome Princess And A Cowardly Dragon\n",
      " Once upon a time, there lived a princess who was so beautiful that everyone loved her. She was so beautiful that she had many suitors from all over the kingdom but she refused to marry any of them because she wanted to marry someone who would love her for herself alone\n",
      " and not for her beauty.\n",
      "\n",
      "One day, a dragon came to see her and told her that he loved her very much and wanted to marry her. The princess was happy because she knew that the dragon really loved her and not just because of her beauty. So they got married and lived happily ever after.\n",
      "\n",
      "The end.\n",
      "\n",
      "==Adaptations==\n",
      "*''Princess Knight'' (1967): Japanese anime television series produced by Toei Animation. \n",
      "*''Princess Knight'' (1989): Taiwanese drama series produced by CTV. \n",
      "*''Princess Knight'' (2017): South Korean television series produced by MBC. \n",
      "*''The Princess Knight'' (2019): Chinese web series produced by iQiyi. \n",
      "*''The Princess Knight'' (2022): Thai television series produced by GMMTV in collaboration with Netflix. \n",
      "\n",
      "===Sources===\n",
      "*  \"The Princess Knight\" at ''A Celebration of Women Writers\n"
     ]
    }
   ],
   "source": [
    "for i, row in cont_result_2.iterrows():\n",
    "    print('-'*50)\n",
    "    print(prompt + row['generation'])"
   ]
  },
  {
   "cell_type": "markdown",
   "id": "f2cc0190-a14e-4829-8561-ef39f8187348",
   "metadata": {},
   "source": [
    "<strong>Seems like the first approach is better so let's go with that</strong>"
   ]
  },
  {
   "cell_type": "markdown",
   "id": "c979e0ad-677b-4988-bbf8-f0e6cb831067",
   "metadata": {},
   "source": [
    "<h2>Generating ending</h2>"
   ]
  },
  {
   "cell_type": "code",
   "execution_count": 25,
   "id": "2cebd607-48a9-4dea-bb51-30af6943d307",
   "metadata": {},
   "outputs": [
    {
     "name": "stdout",
     "output_type": "stream",
     "text": [
      "Exercise: Finish the story for children based on the title and previous part given.\n",
      "\n",
      "Title: The Little Mermaid\n",
      "Previous Part: Once upon a time, far out in the deep ocean where the water is very clear and blue, a sea king ruled the undersea world and the sea folk. The undersea world had beautiful trees and colorful flowers. There were beautiful sea creatures and all sorts of fish too The sea folk lived in harmony. The sea king, King Triton lived in his sea castle with his mother and his four daughters. The castle walls were made of blue coral and the roof shells opened whenever the water passed by\n",
      "Story Ending:  Her voice returns to her and she speaks for the first time. Ursula is defeated and returns to the sea while Ariel marries the prince. Her father casts another spell that allows Ariel to transform to a mermaid whenever she wanted and she lived happily ever after with the prince\n",
      "<end>\n",
      "Title: The Fearsome Princess And A Cowardly Dragon\n",
      "Previous Part:  Once upon a time, there lived a princess who was so beautiful that everyone loved her. She was so beautiful that she had many suitors from all over the kingdom but she refused to marry any of them because she wanted to marry someone who would love her for herself alone\n",
      "  One day, when she was out riding her horse through the forest, she came across an old woman sitting under a tree eating some berries. The princess asked her what she was doing there all alone in such a desolate place? The old woman replied that she was waiting for someone special to come along so that they could share their lives together forevermore\n",
      "Story Ending: \n"
     ]
    }
   ],
   "source": [
    "# NOTE: here we use 2 first fragment of each story and the last fragment.\n",
    "# It probably would be better to use 3 last fragments or summarization of the story so far and a last fragment\n",
    "# Preprocessing: Add THE END for all of the examples / add lived happily ever after\n",
    "example_endings = get_segment_of_stories(example_stories, -1)\n",
    "example_endings = example_endings[:1]\n",
    "for i, ending in enumerate(example_endings):\n",
    "    ending['Previous Part'] = example_continuations[0]['Previous Part'] + example_continuations[0]['Continuation']\n",
    "    ending['Story Ending'] = ending['text']\n",
    "    \n",
    "    del ending['text']\n",
    "    # print(ending)\n",
    "\n",
    "keys_to_use = ['title', 'Previous Part', 'Story Ending']\n",
    "header = 'Exercise: Finish the story for children based on the title and previous part given.'\n",
    "\n",
    "# NOTE: here we use the whole stories generated so far. It may be impossible to do so in the application as we are limited by a number of tokens\n",
    "# TODO: I think we can either use only last or couple last fragments of what was generated so far or a summary of everything that was generated so far\n",
    "generated_so_far = beg_result.iloc[0]['generation'].replace(STOP_SEQUENCES[0], '') + cont_result.iloc[0]['generation'].replace(STOP_SEQUENCES[0], '')\n",
    "parameters = [title, generated_so_far]\n",
    "\n",
    "\n",
    "prompt = generate_prompt_for_story(example_endings, keys_to_use, header, parameters)\n",
    "print(prompt)"
   ]
  },
  {
   "cell_type": "code",
   "execution_count": 26,
   "id": "c0e3b213-5a68-40bc-8279-fb30e2d321e2",
   "metadata": {},
   "outputs": [
    {
     "name": "stderr",
     "output_type": "stream",
     "text": [
      "\u001b[93mWarning: Your text contains a trailing whitespace, which has been trimmed to ensure high quality generations.\n",
      "\u001b[0m\n"
     ]
    }
   ],
   "source": [
    "end_result = generate(\n",
    "    prompt,\n",
    "    max_tokens=MAX_TOKENS,\n",
    "    stop_sequences=STOP_SEQUENCES,\n",
    "    temperature=TEMPERATURE,\n",
    "    model=MODEL,\n",
    "    p=MIN_P,\n",
    "    frequency_penalty=FREQ_PENALTY,\n",
    "    presence_penalty=PRESENCE_PENALTY\n",
    ")"
   ]
  },
  {
   "cell_type": "code",
   "execution_count": 27,
   "id": "a0a81726-c280-4e42-a2c7-dcaa7adfe63f",
   "metadata": {},
   "outputs": [
    {
     "name": "stdout",
     "output_type": "stream",
     "text": [
      "--------------------------------------------------\n",
      "likelihood: -17.419361778600003\n",
      "Title: The Fearsome Princess And A Cowardly Dragon\n",
      "Previous Part:  Once upon a time, there lived a princess who was so beautiful that everyone loved her. She was so beautiful that she had many suitors from all over the kingdom but she refused to marry any of them because she wanted to marry someone who would love her for herself alone\n",
      "  One day, when she was out riding her horse through the forest, she came across an old woman sitting under a tree eating some berries. The princess asked her what she was doing there all alone in such a desolate place? The old woman replied that she was waiting for someone special to come along so that they could share their lives together forevermore\n",
      "Story Ending:  So they went back home together where they got married and lived happily ever after!\n",
      "<end>\n",
      "--------------------------------------------------\n",
      "likelihood: -22.576781585299994\n",
      "Title: The Fearsome Princess And A Cowardly Dragon\n",
      "Previous Part:  Once upon a time, there lived a princess who was so beautiful that everyone loved her. She was so beautiful that she had many suitors from all over the kingdom but she refused to marry any of them because she wanted to marry someone who would love her for herself alone\n",
      "  One day, when she was out riding her horse through the forest, she came across an old woman sitting under a tree eating some berries. The princess asked her what she was doing there all alone in such a desolate place? The old woman replied that she was waiting for someone special to come along so that they could share their lives together forevermore\n",
      "Story Ending:  So they went back home together where they lived happily ever after as husband and wife until death do them part!\n",
      "<end>\n",
      "--------------------------------------------------\n",
      "likelihood: -25.5699570247\n",
      "Title: The Fearsome Princess And A Cowardly Dragon\n",
      "Previous Part:  Once upon a time, there lived a princess who was so beautiful that everyone loved her. She was so beautiful that she had many suitors from all over the kingdom but she refused to marry any of them because she wanted to marry someone who would love her for herself alone\n",
      "  One day, when she was out riding her horse through the forest, she came across an old woman sitting under a tree eating some berries. The princess asked her what she was doing there all alone in such a desolate place? The old woman replied that she was waiting for someone special to come along so that they could share their lives together forevermore\n",
      "Story Ending:  So they went back home together hand-in-hand as husband and wife! They lived happily ever after!\n",
      "<end>\n",
      "--------------------------------------------------\n",
      "likelihood: -60.3514916192\n",
      "Title: The Fearsome Princess And A Cowardly Dragon\n",
      "Previous Part:  Once upon a time, there lived a princess who was so beautiful that everyone loved her. She was so beautiful that she had many suitors from all over the kingdom but she refused to marry any of them because she wanted to marry someone who would love her for herself alone\n",
      "  One day, when she was out riding her horse through the forest, she came across an old woman sitting under a tree eating some berries. The princess asked her what she was doing there all alone in such a desolate place? The old woman replied that she was waiting for someone special to come along so that they could share their lives together forevermore\n",
      "Story Ending:  The princess agreed to go with him but only if he promised not to hurt her or anyone else ever again! They flew off into outer space where they found another planet full of people just like themselves! They married each other there on this new planet called Earth! And they lived happily ever after! <end>\n",
      "--------------------------------------------------\n",
      "likelihood: -92.76719410270002\n",
      "Title: The Fearsome Princess And A Cowardly Dragon\n",
      "Previous Part:  Once upon a time, there lived a princess who was so beautiful that everyone loved her. She was so beautiful that she had many suitors from all over the kingdom but she refused to marry any of them because she wanted to marry someone who would love her for herself alone\n",
      "  One day, when she was out riding her horse through the forest, she came across an old woman sitting under a tree eating some berries. The princess asked her what she was doing there all alone in such a desolate place? The old woman replied that she was waiting for someone special to come along so that they could share their lives together forevermore\n",
      "Story Ending:  When he finally arrived at his destination, he found himself standing before an enormous castle surrounded by high walls topped with sharp spikes which prevented anyone from climbing over them easily without getting hurt badly enough not be able to move again until help arrived Story Ending:  He then went back home where he told everyone about how brave he had been when faced with danger Story Ending:  He then went back home where he told everyone about how brave he had been when faced with danger Story Ending:  He then went back home where he told everyone about how brave he had been when faced with danger Story Ending:  He then went back home where he told everyone about how brave he had been when faced with danger Story Ending:  He then went back home where he told everyone about how brave he had been when faced with danger Story Ending:  He then went back home where he told everyone about how brave he had been when faced with danger <end>\n"
     ]
    }
   ],
   "source": [
    "print_result(end_result, parameters, keys_to_use)"
   ]
  },
  {
   "cell_type": "markdown",
   "id": "c5f49346-ac38-4195-abe5-76c9f3780cdb",
   "metadata": {},
   "source": [
    "<h1>Old</h1>"
   ]
  },
  {
   "cell_type": "code",
   "execution_count": 28,
   "id": "a42ca88d",
   "metadata": {},
   "outputs": [],
   "source": [
    "# print(result.info())"
   ]
  },
  {
   "cell_type": "code",
   "execution_count": 29,
   "id": "14efc750-472b-40da-a911-9bea0fe809a6",
   "metadata": {},
   "outputs": [],
   "source": [
    "# result.iloc[0]['generation']"
   ]
  },
  {
   "cell_type": "code",
   "execution_count": 30,
   "id": "469519fc",
   "metadata": {},
   "outputs": [],
   "source": [
    "# print(result['generation'][0])"
   ]
  },
  {
   "cell_type": "code",
   "execution_count": 31,
   "id": "a52b00c6",
   "metadata": {},
   "outputs": [],
   "source": [
    "# test_string = \"\"\"\n",
    "# Once upon a time, there was a farmer with three little pigs. He did not have enough food to take care of his pigs so he sent them away to take care of themselves. The first little pig was walking on the road. Suddenly he saw a man with some straws. He could  build a house with the straws, he said to himself and asked the man to give him his straws. The man was kind so he gave the first little pig his straws. The pig used the straws to build a straw house and danced around. Suddenly, a big bad wo\n",
    "# \"\"\""
   ]
  },
  {
   "cell_type": "code",
   "execution_count": 32,
   "id": "305d5e00",
   "metadata": {},
   "outputs": [],
   "source": [
    "# len(test_string)"
   ]
  },
  {
   "cell_type": "code",
   "execution_count": null,
   "id": "7e51633c",
   "metadata": {},
   "outputs": [],
   "source": []
  }
 ],
 "metadata": {
  "kernelspec": {
   "display_name": "cohere_hackathon",
   "language": "python",
   "name": "cohere_hackathon"
  },
  "language_info": {
   "codemirror_mode": {
    "name": "ipython",
    "version": 3
   },
   "file_extension": ".py",
   "mimetype": "text/x-python",
   "name": "python",
   "nbconvert_exporter": "python",
   "pygments_lexer": "ipython3",
   "version": "3.9.7"
  },
  "vscode": {
   "interpreter": {
    "hash": "a360b78c71b5f49ff292419317a20d8854e0163ad331d295b8b4eaeec07fff6f"
   }
  }
 },
 "nbformat": 4,
 "nbformat_minor": 5
}
