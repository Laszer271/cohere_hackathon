{
 "cells": [
  {
   "cell_type": "code",
   "execution_count": 33,
   "id": "38f111a0",
   "metadata": {},
   "outputs": [],
   "source": [
    "import cohere\n",
    "import json\n",
    "import io\n",
    "import warnings\n",
    "\n",
    "import pandas as pd\n",
    "from IPython.display import display\n",
    "from PIL import Image\n",
    "\n",
    "from stability_sdk import client\n",
    "import stability_sdk.interfaces.gooseai.generation.generation_pb2 as generation\n",
    "\n",
    "import sys\n",
    "if '..' not in sys.path:\n",
    "    sys.path.append('..')\n",
    "    \n",
    "import os\n",
    "import random\n",
    "\n",
    "\n",
    "from app.story_generator.segmentation import StoryDivider"
   ]
  },
  {
   "cell_type": "code",
   "execution_count": 110,
   "id": "c17793be-d946-4e5a-851d-39201af6b6eb",
   "metadata": {},
   "outputs": [],
   "source": [
    "def get_random_story():\n",
    "    stories_path = os.path.join(os.path.abspath(''), os.pardir,\n",
    "                                \"data\", \"stories\", \"fairy_tales.json\")\n",
    "    with open(stories_path, \"rb\") as f:\n",
    "        stories = json.load(f)\n",
    "        example_story = random.choice(stories)\n",
    "    return example_story\n",
    "\n",
    "\n",
    "def get_segmented_story(n_pages=None, sentences_per_page=3):\n",
    "    story = get_random_story()\n",
    "    seg = StoryDivider(story[\"title\"], story[\"text\"])\n",
    "    segmented = seg.divide_story_into_segments(n_pages=n_pages, sentences_per_page=sentences_per_page)\n",
    "    # print(segmented)\n",
    "    return seg.story_id, segmented"
   ]
  },
  {
   "cell_type": "markdown",
   "id": "c3a6ced5",
   "metadata": {},
   "source": [
    "# APIs"
   ]
  },
  {
   "cell_type": "code",
   "execution_count": 111,
   "id": "80c32711-8021-43ae-acb1-a2332a69e682",
   "metadata": {},
   "outputs": [],
   "source": [
    "with open('../cohere_api_key.txt', 'r') as f:\n",
    "    cohere_api_key = f.read()\n",
    "co = cohere.Client(cohere_api_key)\n",
    "\n",
    "with open('../stability_api_key.txt', 'r') as f:\n",
    "    stability_api_key = f.read()\n",
    "stability_api = client.StabilityInference(\n",
    "    key=stability_api_key, \n",
    "    verbose=True,\n",
    ")\n",
    "\n",
    "del cohere_api_key\n",
    "del stability_api_key"
   ]
  },
  {
   "cell_type": "markdown",
   "id": "75020b35",
   "metadata": {},
   "source": [
    "# EDA"
   ]
  },
  {
   "cell_type": "code",
   "execution_count": 112,
   "id": "60691af1",
   "metadata": {},
   "outputs": [
    {
     "data": {
      "text/plain": [
       "'Once upon a time, a brother and sister named Hansel and Gretel lived in a hut in the woods with their father who was a poor woodcutter and their mother. Their parents were very poor and had barely enough food to eat One day, their parents sent them off into the woods in search of greener pastures. Their mother cried as she sent them off but they could not take care of them any longer. Hansel and Gretel took a few pebbles and some bread crumbs with them. That night the two children had nowhere to sleep. They wandered in the forest for days, looking for food and a place to stay. The children slept under a tree that night and kept each other warm. The next morning when the sun rose, Hansel turned to his little sister. “Gretel,” he said, “we cannot stay here.  We must go deeper into the woods!  Surely we will find more to eat than what we get at home and we can bring some food for mother and father” Gretel was worried. “But what if we get lost?” she asked “We won’t!” said Hansel.  “If we get lost, we will follow the pebbles back home.” As they went deeper and deeper into the forest, the children decided to drop pebbles on the path to help them find a way back home if they get lost. Soon, they had no more pebbles and all they had left were bread crumbs.  Gretel was careful to drop one crumb and then after a bit, another. There was no luck and the children had looked and looked for any sign of something to eat – an apple tree, pear tree, some nuts on the ground, or even dried-up berries.  There was nothing to eat!  They got hungrier and hungrier and the children were tired. They decided to go back home or they would starve. They turned back and all the bread crumbs were gone. Now they were lost! They did not know their way back home. “Oh, no!” cried Gretel “The birds ate up all the crumbs!” the children were sad. Gretel began to cry but Hansel assured her they will be safe. They walked on and suddenly, a wolf howled in the distance. They hurried away to avoid being eaten by the wolf. The sun was setting and the children were lost and hungry.  Now they were scared, too. Soon, they saw a strange house made up of cookies, candies, and chocolates. The children were immediately happy and ran along the path to the house. They knocked at the yummy chocolate door but nobody answered. They knocked again and the door opened. The children were too hungry to wait for the owner of the house. They went in and started to eat the yummy door. When they both were eating the yummy door, a witch pounced on them. The strange house belonged to a witch! The children begged for their lives but the evil witch did not listen. She locked up Hansel in a cage and asked Gretel to help her heat the oven. She would cook them and eat them up. But just as the witch bent to check the oven’s temperature, Gretel pushed her from behind and locked the oven door. Gretel rescued Hansel and they filled their pockets with the witch’s jewels and goodies. They ran as fast as they could through the forest without stopping. They were too scared to stop for the witch may catch up to them. Finally, they managed to find their way back home and gave jewels to their parents. Thanks to the clever children! The family was never poor and hungry again.'"
      ]
     },
     "execution_count": 112,
     "metadata": {},
     "output_type": "execute_result"
    }
   ],
   "source": [
    "with open('../data/stories/fairy_tales.json') as f:\n",
    "    data = json.load(f)\n",
    "    # text = data['text']\n",
    "    # print(type(text), len(text))\n",
    "data = data[0]\n",
    "title = data['title']\n",
    "text = data['text']\n",
    "text"
   ]
  },
  {
   "cell_type": "code",
   "execution_count": 114,
   "id": "275800b3-a518-4f64-97d5-1498be743209",
   "metadata": {},
   "outputs": [],
   "source": [
    "story_title_1, random_story_1 = get_segmented_story(sentences_per_page=5)\n",
    "random_story_2 = random_story_1\n",
    "\n",
    "while random_story_1[0] == random_story_2[0]:\n",
    "    story_title_2, random_story_2 = get_segmented_story(sentences_per_page=5)"
   ]
  },
  {
   "cell_type": "markdown",
   "id": "4d68574f",
   "metadata": {},
   "source": [
    "# Generating stories"
   ]
  },
  {
   "cell_type": "code",
   "execution_count": 71,
   "id": "71dab670",
   "metadata": {},
   "outputs": [],
   "source": [
    "def generate(prompt, model=\"xlarge\", \n",
    "             num_generations=5, temperature=0.7, \n",
    "             max_tokens=2000, stop_sequences=['<end>']):\n",
    "             \n",
    "  prediction = co.generate(\n",
    "    model=model,\n",
    "    prompt=prompt,\n",
    "    return_likelihoods = 'GENERATION',\n",
    "    stop_sequences=stop_sequences,\n",
    "    max_tokens=max_tokens,\n",
    "    temperature=temperature,\n",
    "    num_generations=num_generations)\n",
    "  \n",
    "  # Get list of generations\n",
    "  gens = []\n",
    "  likelihoods = []\n",
    "  for gen in prediction.generations:\n",
    "      gens.append(gen.text)\n",
    "      \n",
    "      sum_likelihood = 0\n",
    "      for t in gen.token_likelihoods:\n",
    "          sum_likelihood += t.likelihood\n",
    "      # Get sum of likelihoods\n",
    "      likelihoods.append(sum_likelihood)\n",
    "\n",
    "  pd.options.display.max_colwidth = 200\n",
    "  # Create a dataframe for the generated sentences and their likelihood scores\n",
    "  df = pd.DataFrame({'generation': gens, 'likelihood': likelihoods})\n",
    "  # Drop duplicates\n",
    "  df = df.drop_duplicates(subset=['generation'])\n",
    "  # Sort by highest sum likelihood\n",
    "  df = df.sort_values('likelihood', ascending=False, ignore_index=True)\n",
    "  \n",
    "  return df"
   ]
  },
  {
   "cell_type": "code",
   "execution_count": 65,
   "id": "b3c2122d",
   "metadata": {
    "colab": {
     "base_uri": "https://localhost:8080/"
    },
    "id": "JUPDnAyKRbnK",
    "outputId": "adda1e5a-9650-498a-a24c-cd23ac4a9621"
   },
   "outputs": [],
   "source": [
    "def generate_image(image_prompt):\n",
    "  # the object returned is a python generator\n",
    "  answers = stability_api.generate(\n",
    "      prompt=image_prompt\n",
    "  )\n",
    "\n",
    "  # iterating over the generator produces the api response\n",
    "  for resp in answers:\n",
    "      for artifact in resp.artifacts:\n",
    "          if artifact.finish_reason == generation.FILTER:\n",
    "              warnings.warn(\n",
    "                  \"Your request activated the API's safety filters and could not be processed.\"\n",
    "                  \"Please modify the prompt and try again.\")\n",
    "          if artifact.type == generation.ARTIFACT_IMAGE:\n",
    "              img = Image.open(io.BytesIO(artifact.binary))\n",
    "              display(img)\n"
   ]
  },
  {
   "cell_type": "code",
   "execution_count": 138,
   "id": "cef9c3ec-a644-4063-acfb-7b7e73927fbd",
   "metadata": {},
   "outputs": [],
   "source": [
    "def add_newline_at_the_end(text):\n",
    "    if text[-1] != '\\n':\n",
    "        text += '\\n'\n",
    "    return text\n",
    "\n",
    "def generate_prompt_for_story_start(header: str,  examples: list, titles: list = None, story_title: str = None,\n",
    "                                    pre_example_string: str = 'Answer: ', stop_token: str ='<end>', max_tokens: int = 1000):\n",
    "    prompt = add_newline_at_the_end(header)\n",
    "    \n",
    "    for i, ex in enumerate(examples):\n",
    "        if titles is not None:\n",
    "            prompt += 'Title: ' + add_newline_at_the_end(titles[i])\n",
    "        prompt += pre_example_string\n",
    "        prompt += add_newline_at_the_end(ex)\n",
    "        prompt += add_newline_at_the_end(stop_token)\n",
    "        \n",
    "    if titles is not None:\n",
    "        prompt += 'Title: '\n",
    "        if story_title is not None:\n",
    "            prompt += add_newline_at_the_end(story_title)\n",
    "            prompt += pre_example_string\n",
    "    else:\n",
    "        prompt += pre_example_string\n",
    "    \n",
    "    \n",
    "    estimated_tokens_number = len(prompt.split(' ')) + len(ex.split(' '))\n",
    "    estimated_tokens_number *= 2 # let's assume word is on averate 2 tokens\n",
    "    assert estimated_tokens_number < max_tokens, f'Estimated number of tokens was {estimated_tokens_number} which is more than specified max number of tokens ({max_tokens})' \n",
    "    \n",
    "    return prompt"
   ]
  },
  {
   "cell_type": "code",
   "execution_count": 141,
   "id": "f7affb95-588a-4b1c-a5af-e8e0eaaf61ef",
   "metadata": {},
   "outputs": [],
   "source": [
    "header = 'Exercise: Generate the beginning of the story for children based on a title given.'\n",
    "examples = [random_story_1[0], random_story_2[0]]\n",
    "titles = [story_title_1, story_title_2]\n",
    "story_title = 'The Dragon and prince penguin' # should be None if there is \n",
    "MAX_TOKENS = 1000"
   ]
  },
  {
   "cell_type": "code",
   "execution_count": 134,
   "id": "9a2c48f7-5f5d-425c-91bd-26fdb2b8dd93",
   "metadata": {},
   "outputs": [],
   "source": [
    "prompt = generate_prompt_for_story_start(header, examples, titles=titles, story_title=story_title)"
   ]
  },
  {
   "cell_type": "code",
   "execution_count": 135,
   "id": "be674c90-6048-4565-9033-b598dbdacd9a",
   "metadata": {},
   "outputs": [
    {
     "name": "stdout",
     "output_type": "stream",
     "text": [
      "Exercise: Generate the beginning of the story for children based on a title given.\n",
      "Title: The Three Little Pigs\n",
      "Answer: Once upon a time, there was a farmer with three little pigs. He did not have enough food to take care of his pigs so he sent them away to take care of themselves. The first little pig was walking on the road. Suddenly he saw a man with some straws. He could  build a house with the straws, he said to himself and asked the man to give him his straws\n",
      "<end>\n",
      "Title: Hansel and Gretel\n",
      "Answer: Once upon a time, a brother and sister named Hansel and Gretel lived in a hut in the woods with their father who was a poor woodcutter and their mother. Their parents were very poor and had barely enough food to eat One day, their parents sent them off into the woods in search of greener pastures. Their mother cried as she sent them off but they could not take care of them any longer. Hansel and Gretel took a few pebbles and some bread crumbs with them. That night the two children had nowhere to sleep\n",
      "<end>\n",
      "Title: The Dragon and prince penguin\n",
      "Answer: \n"
     ]
    }
   ],
   "source": [
    "print(prompt)"
   ]
  },
  {
   "cell_type": "code",
   "execution_count": 136,
   "id": "98823dd3-aa37-46bd-a28b-cffa3e122424",
   "metadata": {},
   "outputs": [
    {
     "name": "stderr",
     "output_type": "stream",
     "text": [
      "\u001b[93mWarning: Your text contains a trailing whitespace, which has been trimmed to ensure high quality generations.\n",
      "\u001b[0m\n"
     ]
    }
   ],
   "source": [
    "result = generate(\n",
    "    prompt,\n",
    "    max_tokens=1000\n",
    ")"
   ]
  },
  {
   "cell_type": "code",
   "execution_count": 143,
   "id": "08f22e4e-a7df-46c4-9345-80a18f8d3d17",
   "metadata": {},
   "outputs": [
    {
     "name": "stdout",
     "output_type": "stream",
     "text": [
      "--------------------------------------------------\n",
      "likelihood: -53.08446738279999\n",
      "The Dragon and prince penguin\n",
      " Once upon a time, a dragon was sleeping in his cave. A prince penguin came and woke him up. He was hungry. The dragon took him to a restaurant and ordered some food for him. The prince penguin thanked the dragon for his kindness.\n",
      "<end>\n",
      "--------------------------------------------------\n",
      "likelihood: -76.0008235151\n",
      "The Dragon and prince penguin\n",
      " Once upon a time, there was a dragon who was bored and lonely. He wanted a friend to play with him. One day, he met a penguin and wanted to be friends with him. The dragon took the penguin to his cave. They were very happy to play together. However, the penguin was afraid of the fire coming out of the dragon's mouth\n",
      "<end>\n",
      "--------------------------------------------------\n",
      "likelihood: -108.261479235\n",
      "The Dragon and prince penguin\n",
      " Once upon a time, there was a prince and a dragon. The dragon was very mean. The prince's father had told him to beware of the dragon. One day, the dragon kidnapped the prince and brought him to a cave. The dragon asked the prince to cook him some food. The prince agreed and went to the kitchen. The dragon gave the prince a small egg. The prince cracked the egg and out came a dragon. The dragon asked the prince to cook the dragon some food\n",
      "<end>\n",
      "--------------------------------------------------\n",
      "likelihood: -134.32298547800002\n",
      "The Dragon and prince penguin\n",
      " Once upon a time, there was a prince named Bob. He was walking in the forest and suddenly saw a big dragon. The dragon saw him too. The dragon asked the prince, \"What are you doing in my forest?\" The prince answered, \"I'm going to visit my friend and then I'm going to get married.\" The dragon said, \"I'm going to eat you.\" The prince said, \"Don't eat me. I will give you a beautiful dress.\" The dragon said, \"I don't need a dress. I have a beautiful dress.\" The prince said, \"No, you don't have a beautiful dress. Please, don't eat me.\" The dragon said, \"OK, I won't eat you.\"\n",
      "<end>\n",
      "--------------------------------------------------\n",
      "likelihood: -150.55674905294998\n",
      "The Dragon and prince penguin\n",
      " Once upon a time, there was a dragon who lived in a cave. He was very big and had sharp teeth. He was very hungry and had to eat something or he would starve. One day he saw a prince penguin walking on the road. He thought that he could eat the prince. So he followed him to his castle. He flew up to the castle and saw that the prince was eating a hamburger. The dragon went up to the prince and tried to eat him but the prince was too big for him to eat. So he tried to scare him away. The dragon flew over the castle and breathed fire on it. The prince was scared and ran away. The dragon was happy because he had scared away the prince.\n",
      "<end>\n"
     ]
    }
   ],
   "source": [
    "for i, row in result.iterrows():\n",
    "    print('-'*50)\n",
    "    print('likelihood:', row['likelihood'])\n",
    "    text = row['generation']\n",
    "    if story_title is not None:\n",
    "        text = add_newline_at_the_end(story_title) + text\n",
    "    print(text)"
   ]
  },
  {
   "cell_type": "code",
   "execution_count": 132,
   "id": "a42ca88d",
   "metadata": {},
   "outputs": [
    {
     "name": "stdout",
     "output_type": "stream",
     "text": [
      "<class 'pandas.core.frame.DataFrame'>\n",
      "RangeIndex: 5 entries, 0 to 4\n",
      "Data columns (total 2 columns):\n",
      " #   Column      Non-Null Count  Dtype  \n",
      "---  ------      --------------  -----  \n",
      " 0   generation  5 non-null      object \n",
      " 1   likelihood  5 non-null      float64\n",
      "dtypes: float64(1), object(1)\n",
      "memory usage: 208.0+ bytes\n",
      "None\n"
     ]
    }
   ],
   "source": [
    "print(result.info())"
   ]
  },
  {
   "cell_type": "code",
   "execution_count": 93,
   "id": "14efc750-472b-40da-a911-9bea0fe809a6",
   "metadata": {},
   "outputs": [
    {
     "data": {
      "text/plain": [
       "'Once upon a time, there was a little girl who lived with her mother very close to the woods. The little girl was called Little Red Riding Hood because of the red hat her grandmother gifted her. She liked this hat very much and wore it everywhere. Her mother told her not to talk to strangers and she did as told. Whenever she was sent on an errand, she would be careful not to talk to strangers\\n<end>'"
      ]
     },
     "execution_count": 93,
     "metadata": {},
     "output_type": "execute_result"
    }
   ],
   "source": [
    "result.iloc[0]['generation']"
   ]
  },
  {
   "cell_type": "code",
   "execution_count": 68,
   "id": "469519fc",
   "metadata": {},
   "outputs": [
    {
     "name": "stdout",
     "output_type": "stream",
     "text": [
      " and her lost dog that is a fascinating read. This short story\n",
      "is one of those stories that keeps you hooked from the very beginning. It\n",
      "captures your attention and your imagination and makes you want to read more.\n",
      "\n",
      "I liked the story, the story of a young girl\n",
      "who is looking for her dog. The girl goes to find her dog and meets different\n",
      "people on the way. The story is told from the point of view of the girl and\n",
      "through the voice of the dog. The story is well written and I liked the way the\n",
      "author wrote it.\n",
      "\n",
      "This story is about a girl named Molly who\n",
      "has a dog named Lola. Molly's dog is lost and she goes to find her dog. She\n",
      "meets different people on the way and they help her. The story is written in a\n",
      "very simple and interesting way. The story is about the dog and the girl. The\n",
      "author has written the story in a very simple and interesting way. The story is\n",
      "very well written and it is very interesting. The story is written in a very\n",
      "simple and interesting way. The story is about the dog and the girl. The author\n",
      "has written the story in a very simple and interesting way. The story is about\n",
      "the dog and the girl.\n",
      "\n",
      "Grayce the Fairy's Big Mistake is a short\n",
      "story about a fairy named Grayce who accidentally makes a huge mistake.\n",
      "Grayce the Fairy's Big Mistake is a short story about a fairy named Grayce who\n",
      "accidentally makes a huge mistake. Grayce the Fairy's Big Mistake is a short\n",
      "story about a fairy named Grayce who accidentally makes a huge mistake.\n",
      "\n",
      "The story of the Grayce the Fairy is about a\n",
      "fairy who accidentally makes a huge mistake. The story is about a fairy who\n",
      "accidentally makes a huge mistake.\n",
      "\n",
      "Grayce the Fairy's Big Mistake is a short\n",
      "story about a fairy who accidentally makes a huge mistake. Grayce the Fairy's\n",
      "Big Mistake is a short story about a fairy who accidentally makes a huge\n",
      "mistake. Grayce the Fairy's Big Mistake is a short story about a fairy who\n",
      "accidentally makes a huge mistake. Grayce the Fairy's Big Mistake is a short\n",
      "story about a fairy who accidentally makes a huge mistake. Grayce the Fairy's\n",
      "Big Mistake is a short story about a fairy who accidentally makes a huge\n",
      "mistake. Grayce the Fairy's Big Mistake is a short story about a fairy who\n",
      "accidentally makes a huge mistake. Grayce the Fairy's Big Mistake is a short\n",
      "story about a fairy who accidentally makes a huge mistake. Grayce the Fairy's\n",
      "Big Mistake is a short story about a fairy who accidentally makes a huge\n",
      "mistake. Grayce the Fairy's Big Mistake is a short story about a fairy who\n",
      "accidentally makes a huge mistake. Grayce the Fairy's Big Mistake is a short\n",
      "story about a fairy who accidentally makes a huge mistake. Grayce the Fairy's\n",
      "Big Mistake is a short story about a fairy who accidentally makes a huge\n",
      "mistake. Grayce the Fairy's Big Mistake is a short story about a fairy who\n",
      "accidentally makes a huge mistake. Grayce the Fairy's Big Mistake is a short\n",
      "story about a fairy who accidentally makes a huge mistake. Grayce the Fairy's\n",
      "Big Mistake is a short story about a fairy who accidentally makes a huge\n",
      "mistake. Grayce the Fairy's Big Mistake is a short story about a fairy who\n",
      "accidentally makes a huge mistake. Grayce the Fairy's Big Mistake is a short\n",
      "story about a fairy who accidentally makes a huge mistake. Grayce the Fairy's\n",
      "Big Mistake is a short story about a fairy who accidentally makes a huge\n",
      "mistake. Grayce the Fairy's Big Mistake is a short story about a fairy who\n",
      "accidentally makes a huge mistake. Grayce the Fairy's Big Mistake is a short\n",
      "story about a fairy who accidentally makes a huge mistake. Grayce the Fairy's\n",
      "Big Mistake is a short story about a fairy who accidentally makes a huge\n",
      "mistake. Grayce the Fairy's Big Mistake is a short story about a fairy who\n",
      "accidentally makes a huge mistake. Grayce the Fairy's Big Mistake is a short\n",
      "story about a fairy who accidentally makes a huge mistake. Grayce the Fairy's\n",
      "Big Mistake is a short story about a fairy who accidentally makes a huge\n",
      "mistake. Grayce the Fairy's Big Mistake is a short story about a fairy who\n",
      "accidentally makes a huge mistake. Grayce the Fairy's Big Mistake is a short\n",
      "story about a fairy who accidentally makes a huge mistake. Grayce the Fairy's\n",
      "Big Mistake is a\n"
     ]
    }
   ],
   "source": [
    "print(result['generation'][0])"
   ]
  },
  {
   "cell_type": "code",
   "execution_count": 69,
   "id": "a52b00c6",
   "metadata": {},
   "outputs": [],
   "source": [
    "test_string = \"\"\"\n",
    "Once upon a time, there was a farmer with three little pigs. He did not have enough food to take care of his pigs so he sent them away to take care of themselves. The first little pig was walking on the road. Suddenly he saw a man with some straws. He could  build a house with the straws, he said to himself and asked the man to give him his straws. The man was kind so he gave the first little pig his straws. The pig used the straws to build a straw house and danced around. Suddenly, a big bad wo\n",
    "\"\"\""
   ]
  },
  {
   "cell_type": "code",
   "execution_count": 70,
   "id": "305d5e00",
   "metadata": {},
   "outputs": [
    {
     "data": {
      "text/plain": [
       "502"
      ]
     },
     "execution_count": 70,
     "metadata": {},
     "output_type": "execute_result"
    }
   ],
   "source": [
    "len(test_string)"
   ]
  },
  {
   "cell_type": "code",
   "execution_count": null,
   "id": "7e51633c",
   "metadata": {},
   "outputs": [],
   "source": []
  }
 ],
 "metadata": {
  "kernelspec": {
   "display_name": "cohere_hackathon",
   "language": "python",
   "name": "cohere_hackathon"
  },
  "language_info": {
   "codemirror_mode": {
    "name": "ipython",
    "version": 3
   },
   "file_extension": ".py",
   "mimetype": "text/x-python",
   "name": "python",
   "nbconvert_exporter": "python",
   "pygments_lexer": "ipython3",
   "version": "3.9.7"
  },
  "vscode": {
   "interpreter": {
    "hash": "a360b78c71b5f49ff292419317a20d8854e0163ad331d295b8b4eaeec07fff6f"
   }
  }
 },
 "nbformat": 4,
 "nbformat_minor": 5
}
