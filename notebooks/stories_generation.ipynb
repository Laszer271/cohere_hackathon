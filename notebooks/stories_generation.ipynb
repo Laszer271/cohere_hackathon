{
 "cells": [
  {
   "cell_type": "code",
   "execution_count": 1,
   "id": "38f111a0",
   "metadata": {},
   "outputs": [],
   "source": [
    "import cohere\n",
    "import json\n",
    "import io\n",
    "import warnings\n",
    "\n",
    "import pandas as pd\n",
    "from IPython.display import display\n",
    "from PIL import Image\n",
    "\n",
    "from stability_sdk import client\n",
    "import stability_sdk.interfaces.gooseai.generation.generation_pb2 as generation\n",
    "\n",
    "import sys\n",
    "if '..' not in sys.path:\n",
    "    sys.path.append('..')\n",
    "    \n",
    "import os\n",
    "import random\n",
    "import numpy as np\n",
    "\n",
    "\n",
    "from app.story_generator.segmentation import StoryDivider"
   ]
  },
  {
   "cell_type": "code",
   "execution_count": 2,
   "id": "c17793be-d946-4e5a-851d-39201af6b6eb",
   "metadata": {},
   "outputs": [],
   "source": [
    "def get_random_story():\n",
    "    stories_path = os.path.join(os.path.abspath(''), os.pardir,\n",
    "                                \"data\", \"stories\", \"fairy_tales.json\")\n",
    "    with open(stories_path, \"rb\") as f:\n",
    "        stories = json.load(f)\n",
    "        example_story = random.choice(stories)\n",
    "    return example_story\n",
    "\n",
    "\n",
    "def get_segmented_story(n_pages=None, sentences_per_page=3):\n",
    "    story = get_random_story()\n",
    "    seg = StoryDivider(story[\"title\"], story[\"text\"])\n",
    "    segmented = seg.divide_story_into_segments(n_pages=n_pages, sentences_per_page=sentences_per_page)\n",
    "    # print(segmented)\n",
    "    return seg.story_id, segmented"
   ]
  },
  {
   "cell_type": "markdown",
   "id": "c3a6ced5",
   "metadata": {},
   "source": [
    "# APIs"
   ]
  },
  {
   "cell_type": "code",
   "execution_count": 3,
   "id": "80c32711-8021-43ae-acb1-a2332a69e682",
   "metadata": {},
   "outputs": [],
   "source": [
    "with open('../cohere_api_key.txt', 'r') as f:\n",
    "    cohere_api_key = f.read()\n",
    "co = cohere.Client(cohere_api_key)\n",
    "\n",
    "with open('../stability_api_key.txt', 'r') as f:\n",
    "    stability_api_key = f.read()\n",
    "stability_api = client.StabilityInference(\n",
    "    key=stability_api_key, \n",
    "    verbose=True,\n",
    ")\n",
    "\n",
    "del cohere_api_key\n",
    "del stability_api_key"
   ]
  },
  {
   "cell_type": "markdown",
   "id": "75020b35",
   "metadata": {},
   "source": [
    "# EDA"
   ]
  },
  {
   "cell_type": "code",
   "execution_count": 4,
   "id": "60691af1",
   "metadata": {},
   "outputs": [],
   "source": [
    "# with open('../data/stories/fairy_tales.json') as f:\n",
    "#     data = json.load(f)\n",
    "#     # text = data['text']\n",
    "#     # print(type(text), len(text))\n",
    "# data = data[0]\n",
    "# title = data['title']\n",
    "# text = data['text']\n",
    "# text"
   ]
  },
  {
   "cell_type": "code",
   "execution_count": 5,
   "id": "275800b3-a518-4f64-97d5-1498be743209",
   "metadata": {},
   "outputs": [],
   "source": [
    "# story_title_1, random_story_1 = get_segmented_story(sentences_per_page=5)\n",
    "# random_story_2 = random_story_1\n",
    "\n",
    "# while random_story_1[0] == random_story_2[0]:\n",
    "#     story_title_2, random_story_2 = get_segmented_story(sentences_per_page=5)"
   ]
  },
  {
   "cell_type": "markdown",
   "id": "4d68574f",
   "metadata": {},
   "source": [
    "# Generating stories"
   ]
  },
  {
   "cell_type": "code",
   "execution_count": 6,
   "id": "71dab670",
   "metadata": {},
   "outputs": [],
   "source": [
    "def generate(prompt, model=\"xlarge\", \n",
    "             num_generations=5, temperature=0.7, \n",
    "             max_tokens=2000, stop_sequences=['--'], **kwargs):\n",
    "             \n",
    "  prediction = co.generate(\n",
    "    model=model,\n",
    "    prompt=prompt,\n",
    "    return_likelihoods = 'GENERATION',\n",
    "    stop_sequences=stop_sequences,\n",
    "    max_tokens=max_tokens,\n",
    "    temperature=temperature,\n",
    "    num_generations=num_generations,\n",
    "    **kwargs)\n",
    "  \n",
    "  # Get list of generations\n",
    "  gens = []\n",
    "  likelihoods = []\n",
    "  for gen in prediction.generations:\n",
    "      gens.append(gen.text)\n",
    "      \n",
    "      sum_likelihood = 0\n",
    "      for t in gen.token_likelihoods:\n",
    "          sum_likelihood += t.likelihood\n",
    "      # Get sum of likelihoods\n",
    "      likelihoods.append(sum_likelihood)\n",
    "\n",
    "  pd.options.display.max_colwidth = 200\n",
    "  # Create a dataframe for the generated sentences and their likelihood scores\n",
    "  df = pd.DataFrame({'generation': gens, 'likelihood': likelihoods})\n",
    "  # Drop duplicates\n",
    "  df = df.drop_duplicates(subset=['generation'])\n",
    "  # Sort by highest sum likelihood\n",
    "  df = df.sort_values('likelihood', ascending=False, ignore_index=True)\n",
    "  \n",
    "  return df"
   ]
  },
  {
   "cell_type": "code",
   "execution_count": 7,
   "id": "b3c2122d",
   "metadata": {
    "colab": {
     "base_uri": "https://localhost:8080/"
    },
    "id": "JUPDnAyKRbnK",
    "outputId": "adda1e5a-9650-498a-a24c-cd23ac4a9621"
   },
   "outputs": [],
   "source": [
    "def generate_image(image_prompt):\n",
    "  # the object returned is a python generator\n",
    "  answers = stability_api.generate(\n",
    "      prompt=image_prompt\n",
    "  )\n",
    "\n",
    "  # iterating over the generator produces the api response\n",
    "  for resp in answers:\n",
    "      for artifact in resp.artifacts:\n",
    "          if artifact.finish_reason == generation.FILTER:\n",
    "              warnings.warn(\n",
    "                  \"Your request activated the API's safety filters and could not be processed.\"\n",
    "                  \"Please modify the prompt and try again.\")\n",
    "          if artifact.type == generation.ARTIFACT_IMAGE:\n",
    "              img = Image.open(io.BytesIO(artifact.binary))\n",
    "              display(img)\n"
   ]
  },
  {
   "cell_type": "code",
   "execution_count": 8,
   "id": "2f148fce-7bb9-446a-a427-93ec6c1aa361",
   "metadata": {},
   "outputs": [],
   "source": [
    "# prompt = \"\"\"\"Illustration of open blank book for children icon, stock image\n",
    "# \"\"\"\n",
    "\n",
    "# generate_image(prompt)"
   ]
  },
  {
   "cell_type": "code",
   "execution_count": 9,
   "id": "cef9c3ec-a644-4063-acfb-7b7e73927fbd",
   "metadata": {},
   "outputs": [],
   "source": [
    "def add_newline_at_the_end(text):\n",
    "    if text[-1] != '\\n':\n",
    "        text += '\\n'\n",
    "    return text\n",
    "\n",
    "# def generate_prompt_for_story(header: str,  examples: list, titles: list = None, story_title: str = None,\n",
    "#                                     pre_example_string: str = 'Answer: ', stop_token: str ='<end>', max_tokens: int = 1000):\n",
    "#     prompt = add_newline_at_the_end(header)\n",
    "    \n",
    "#     for i, ex in enumerate(examples):\n",
    "#         if titles is not None:\n",
    "#             prompt += 'Title: ' + add_newline_at_the_end(titles[i])\n",
    "#         prompt += pre_example_string\n",
    "#         prompt += add_newline_at_the_end(ex)\n",
    "#         prompt += add_newline_at_the_end(stop_token)\n",
    "        \n",
    "#     if titles is not None:\n",
    "#         prompt += 'Title: '\n",
    "#         if story_title is not None:\n",
    "#             prompt += add_newline_at_the_end(story_title)\n",
    "#             prompt += pre_example_string\n",
    "#     else:\n",
    "#         prompt += pre_example_string\n",
    "    \n",
    "    \n",
    "#     estimated_tokens_number = len(prompt.split(' ')) + len(ex.split(' '))\n",
    "#     estimated_tokens_number *= 2 # let's assume word is on averate 2 tokens\n",
    "#     assert estimated_tokens_number < max_tokens, f'Estimated number of tokens was {estimated_tokens_number} which is more than specified max number of tokens ({max_tokens})' \n",
    "    \n",
    "#     return prompt"
   ]
  },
  {
   "cell_type": "code",
   "execution_count": 10,
   "id": "0282b41f-8f11-4af8-ba93-52caa64b6c45",
   "metadata": {},
   "outputs": [],
   "source": [
    "def get_n_stories(n=3):\n",
    "    stories_path = os.path.join(os.path.abspath(''), os.pardir,\n",
    "                                \"data\", \"stories\", \"fairy_tales.json\")\n",
    "    with open(stories_path, \"rb\") as f:\n",
    "        stories = json.load(f)\n",
    "        assert n <= len(stories), f'Tried to get {n} stories while is only {len(stories)} stories in the database'\n",
    "        example_stories = list(np.random.choice(stories, size=n, replace=False))\n",
    "        \n",
    "    return example_stories\n",
    "\n",
    "def get_segment_of_stories(stories: list, segment_idx: int, handle_too_big_index=True,\n",
    "                           n_pages=None, sentences_per_page=3):\n",
    "    segmented_stories = []\n",
    "    for s in stories:\n",
    "        seg = StoryDivider(s[\"title\"], s[\"text\"])\n",
    "        segmented = seg.divide_story_into_segments(n_pages=n_pages, sentences_per_page=sentences_per_page)\n",
    "        if handle_too_big_index and segment_idx >= len(segmented):\n",
    "            index = len(segmented) - 2\n",
    "            \n",
    "        segmented_stories.append({'title': seg.story_id, 'text': segmented[segment_idx]})\n",
    "        \n",
    "    return segmented_stories\n",
    "\n",
    "def generate_prompt_for_story(stories: list, keys_to_use: list, header: str, parameters: list = None,  \n",
    "                              stop_token: str ='--', max_tokens: int = 2048):\n",
    "    if parameters is None:\n",
    "        parameters = []\n",
    "        \n",
    "    assert len(parameters) <= len(keys_to_use) - 1\n",
    "    # assert keys_to_use[-1] == 'text'    \n",
    "    \n",
    "    if header:\n",
    "        prompt = add_newline_at_the_end(header) + '\\n'\n",
    "    else: \n",
    "        prompt = ''\n",
    "    \n",
    "    avg_story_length = 0\n",
    "    for i, story in enumerate(stories):\n",
    "        avg_story_length += len(story[keys_to_use[-1]])\n",
    "        for key in keys_to_use:\n",
    "            prompt += f'{key.title()}: {story[key]}'\n",
    "            prompt = add_newline_at_the_end(prompt)\n",
    "        prompt += add_newline_at_the_end(stop_token)\n",
    "    avg_story_length = avg_story_length // len(stories)\n",
    "        \n",
    "    for key, param in zip(keys_to_use[:-1], parameters):\n",
    "        prompt += f'{key.title()}: '\n",
    "        if not param:\n",
    "            break\n",
    "        else:\n",
    "            prompt += add_newline_at_the_end(param)\n",
    "    \n",
    "    if param:\n",
    "        prompt += f'{keys_to_use[-1].title()}: '\n",
    "            \n",
    "    estimated_tokens_number = len(prompt.split(' ')) + avg_story_length\n",
    "    estimated_tokens_number *= 2 # let's assume word is on averate 2 tokens\n",
    "    assert estimated_tokens_number < max_tokens, f'Estimated number of tokens was {estimated_tokens_number} which is more than specified max number of tokens ({max_tokens})' \n",
    "    \n",
    "    return prompt\n",
    "\n",
    "def print_result(result, parameters, keys_used, max_words=1500):\n",
    "    starting_string = ''\n",
    "    break_used = False\n",
    "    for param, key in zip(parameters, keys_used[:-1]):\n",
    "        starting_string += f'{key.title()}: '\n",
    "        if param:\n",
    "            starting_string += param\n",
    "        else: \n",
    "            break_used = True\n",
    "            break\n",
    "\n",
    "        starting_string = add_newline_at_the_end(starting_string)\n",
    "\n",
    "    if not break_used:\n",
    "        starting_string += f'{keys_used[-1].title()}:'\n",
    "\n",
    "    for i, row in result.iterrows():\n",
    "        print('-'*50)\n",
    "        print('likelihood:', row['likelihood'])\n",
    "\n",
    "        text = starting_string + row[\"generation\"]\n",
    "        if len(text.split(' ')) > max_words:\n",
    "            print('Text too long')\n",
    "            continue\n",
    "        print(text)"
   ]
  },
  {
   "cell_type": "code",
   "execution_count": 11,
   "id": "010eaffb-f4fd-4132-88f9-da64c08f7a44",
   "metadata": {},
   "outputs": [],
   "source": [
    "MAX_TOKENS = 300\n",
    "STOP_SEQUENCES = ['--']\n",
    "TEMPERATURE = 0.5\n",
    "MODEL = 'xlarge'\n",
    "MIN_P = 0.8\n",
    "FREQ_PENALTY = 0.3\n",
    "PRESENCE_PENALTY = 0.5"
   ]
  },
  {
   "cell_type": "markdown",
   "id": "40c8cc01-647b-4bed-a883-f8c4cf4e7512",
   "metadata": {},
   "source": [
    "<h2>Generating summarization of the story</h2>"
   ]
  },
  {
   "cell_type": "code",
   "execution_count": 36,
   "id": "de84d803-f228-4987-97e1-9d492e78e636",
   "metadata": {},
   "outputs": [
    {
     "ename": "AssertionError",
     "evalue": "",
     "output_type": "error",
     "traceback": [
      "\u001b[0;31m---------------------------------------------------------------------------\u001b[0m",
      "\u001b[0;31mAssertionError\u001b[0m                            Traceback (most recent call last)",
      "Cell \u001b[0;32mIn[36], line 8\u001b[0m\n\u001b[1;32m      5\u001b[0m title \u001b[38;5;241m=\u001b[39m \u001b[38;5;124m'\u001b[39m\u001b[38;5;124mthe adventures of miss koala and mister penguin\u001b[39m\u001b[38;5;124m'\u001b[39m\u001b[38;5;241m.\u001b[39mtitle()\n\u001b[1;32m      6\u001b[0m parameters \u001b[38;5;241m=\u001b[39m []\n\u001b[0;32m----> 8\u001b[0m prompt \u001b[38;5;241m=\u001b[39m \u001b[43mgenerate_prompt_for_story\u001b[49m\u001b[43m(\u001b[49m\u001b[43mexample_stories\u001b[49m\u001b[43m,\u001b[49m\u001b[43m \u001b[49m\u001b[43mkeys_to_use\u001b[49m\u001b[43m,\u001b[49m\u001b[43m \u001b[49m\u001b[43mheader\u001b[49m\u001b[43m,\u001b[49m\u001b[43m \u001b[49m\u001b[43mparameters\u001b[49m\u001b[43m,\u001b[49m\u001b[43m \u001b[49m\u001b[43mstop_token\u001b[49m\u001b[38;5;241;43m=\u001b[39;49m\u001b[43mSTOP_SEQUENCES\u001b[49m\u001b[43m[\u001b[49m\u001b[38;5;241;43m0\u001b[39;49m\u001b[43m]\u001b[49m\u001b[43m)\u001b[49m\n\u001b[1;32m      9\u001b[0m \u001b[38;5;28mprint\u001b[39m(prompt)\n",
      "Cell \u001b[0;32mIn[10], line 26\u001b[0m, in \u001b[0;36mgenerate_prompt_for_story\u001b[0;34m(stories, keys_to_use, header, parameters, stop_token, max_tokens)\u001b[0m\n\u001b[1;32m     24\u001b[0m \u001b[38;5;28;01mdef\u001b[39;00m \u001b[38;5;21mgenerate_prompt_for_story\u001b[39m(stories: \u001b[38;5;28mlist\u001b[39m, keys_to_use: \u001b[38;5;28mlist\u001b[39m, header: \u001b[38;5;28mstr\u001b[39m, parameters: \u001b[38;5;28mlist\u001b[39m \u001b[38;5;241m=\u001b[39m \u001b[38;5;28;01mNone\u001b[39;00m,  \n\u001b[1;32m     25\u001b[0m                               stop_token: \u001b[38;5;28mstr\u001b[39m \u001b[38;5;241m=\u001b[39m\u001b[38;5;124m'\u001b[39m\u001b[38;5;124m--\u001b[39m\u001b[38;5;124m'\u001b[39m, max_tokens: \u001b[38;5;28mint\u001b[39m \u001b[38;5;241m=\u001b[39m \u001b[38;5;241m2048\u001b[39m):\n\u001b[0;32m---> 26\u001b[0m     \u001b[38;5;28;01massert\u001b[39;00m parameters \u001b[38;5;129;01mis\u001b[39;00m \u001b[38;5;28;01mNone\u001b[39;00m \u001b[38;5;129;01mor\u001b[39;00m \u001b[38;5;28mlen\u001b[39m(parameters) \u001b[38;5;241m==\u001b[39m \u001b[38;5;28mlen\u001b[39m(keys_to_use) \u001b[38;5;241m-\u001b[39m \u001b[38;5;241m1\u001b[39m\n\u001b[1;32m     27\u001b[0m     \u001b[38;5;66;03m# assert keys_to_use[-1] == 'text'    \u001b[39;00m\n\u001b[1;32m     29\u001b[0m     \u001b[38;5;28;01mif\u001b[39;00m header:\n",
      "\u001b[0;31mAssertionError\u001b[0m: "
     ]
    }
   ],
   "source": [
    "example_stories = get_n_stories(3)\n",
    "\n",
    "keys_to_use = ['title', 'summary']\n",
    "header = 'Exercise: Write a short summary of a story for children based on title given.'\n",
    "title = 'the adventures of miss koala and mister penguin'.title()\n",
    "parameters = []\n",
    "\n",
    "prompt = generate_prompt_for_story(example_stories, keys_to_use, header, parameters, stop_token=STOP_SEQUENCES[0])\n",
    "print(prompt)"
   ]
  },
  {
   "cell_type": "code",
   "execution_count": 13,
   "id": "cdb4a12a-03f5-45cd-a763-0441446b61b6",
   "metadata": {},
   "outputs": [
    {
     "name": "stderr",
     "output_type": "stream",
     "text": [
      "\u001b[93mWarning: Your text contains a trailing whitespace, which has been trimmed to ensure high quality generations.\n",
      "\u001b[0m\n"
     ]
    }
   ],
   "source": [
    "summary_result = generate(\n",
    "    prompt,\n",
    "    max_tokens=MAX_TOKENS,\n",
    "    stop_sequences=STOP_SEQUENCES,\n",
    "    temperature=TEMPERATURE,\n",
    "    model=MODEL, \n",
    "    p=MIN_P,\n",
    "    frequency_penalty=FREQ_PENALTY,\n",
    "    presence_penalty=PRESENCE_PENALTY\n",
    ")"
   ]
  },
  {
   "cell_type": "code",
   "execution_count": 14,
   "id": "82c15dfb-bb84-447d-b6de-59ba3ef4c157",
   "metadata": {},
   "outputs": [
    {
     "name": "stdout",
     "output_type": "stream",
     "text": [
      "--------------------------------------------------\n",
      "likelihood: -91.52001648955002\n",
      "Title: The Adventures Of Miss Koala And Mister Penguin\n",
      "Summary: Mr Penguin went on an adventure with Miss Koala as they walked together through desert, jungle, sea, forest, and mountain before returning home where they snuggled up together in bed with their books!\n",
      "--\n",
      "--------------------------------------------------\n",
      "likelihood: -102.35307267940996\n",
      "Title: The Adventures Of Miss Koala And Mister Penguin\n",
      "Summary: Miss Koala goes on vacation with her friend Mister Penguin when she meets some other penguins who want her to become their leader. She agrees, but soon realizes that being leader means being bossy all day long! She goes back home where Mister Penguin is waiting for her with flowers and candy!\n",
      "--\n",
      "--------------------------------------------------\n",
      "likelihood: -118.16484076289996\n",
      "Title: The Adventures Of Miss Koala And Mister Penguin\n",
      "Summary: Mister Penguin travels around Europe from England to Italy, France, Switzerland, Germany, Holland, and Spain in search of Miss Koala's family members who are all members of different professions from an artist in Paris to a doctor in London. At last, Mister Penguin finds Miss Koala's family in Australia and they all live happily ever after in Sydney.\n",
      "--\n",
      "--------------------------------------------------\n",
      "likelihood: -246.25892773872994\n",
      "Title: The Adventures Of Miss Koala And Mister Penguin\n",
      "Summary: Miss Koala wanted to travel around the world so she set out with her suitcase on her back as Mr Penguin followed her closely behind with his suitcase on his back too. They went to many places together until Mr Penguin got tired of carrying his heavy suitcase so Miss Koala suggested that they put their suitcases into her suitcase so they would be easier to carry around. But after awhile, Miss Koala's suitcase became too heavy so she decided that she needed another one just like Mr Penguin's suitcase which is much lighter than hers because it has wheels on it! So what does Miss Koala do? She buys herself another one just like Mr Penguin's! This way they can travel together without getting tired or having sore backs from carrying all those heavy bags around everywhere! Now they are happily traveling around Australia together while enjoying each other's company every step along their journey . . .\n",
      "--\n",
      "--------------------------------------------------\n",
      "likelihood: -368.9112049538102\n",
      "Title: The Adventures Of Miss Koala And Mister Penguin\n",
      "Summary: Miss Koala found Mr Penguin in her garden one day, so she decided to take him home with her to Australia so she could show him her home country. They had many adventures along the way from England to Australia including being shipwrecked on an island full of wild animals including crocodiles! Eventually they made it back home safely after all their adventures together as friends forever more now that they are back at last where they belong - Australia!. This book has beautiful illustrations throughout which will be sure keep kids entertained during story time or bedtime reading sessions too if parents want some quiet time alone after putting little ones down before bedtime each night too!. It's also available as part of our popular series called \"The Adventures Of...\", which includes lots more fun stories such as \"The Adventures Of Miss Rabbit And Mr Mouse\" (a great book series for kids). You can check out more titles by clicking here now... https://www.../the-adventures-of-miss-koala-and-mister-penguin/p/1626382795824?ref=sr_1_1&_encoding=UTF8&qid=1626382795824&sr=8-1&keywords=the+adventures+of+miss+koala+and+mister+penguin+book+series+for+kids+by+the+author+of+the+adventures+of\n"
     ]
    }
   ],
   "source": [
    "print_result(summary_result, parameters, keys_to_use, max_words=500)"
   ]
  },
  {
   "cell_type": "markdown",
   "id": "2c273d7b-66cf-457b-9d68-2b672aec73c4",
   "metadata": {},
   "source": [
    "<h2>Generating beginning of the story</h2>"
   ]
  },
  {
   "cell_type": "code",
   "execution_count": 15,
   "id": "6d1a2823-cc73-48fd-ba9e-da7b64bc9fa6",
   "metadata": {},
   "outputs": [
    {
     "name": "stdout",
     "output_type": "stream",
     "text": [
      "Exercise: Generate the beginning of the story for children based on a information given.\n",
      "\n",
      "Title: The Ugly Duckling\n",
      "Text: Once upon a time, there was a duck. She lived in the forest. One day she laid some eggs\n",
      "--\n",
      "Title: The Three Little Pigs\n",
      "Text: Once upon a time, there was a farmer with three little pigs. He did not have enough food to take care of his pigs so he sent them away to take care of themselves. The first little pig was walking on the road\n",
      "--\n",
      "Title: The Emperors' New Suit\n",
      "Text: Many years ago, there lived an emperor who cared too much about his looks. He liked to wear the most fancy suits and parade around his kingdom. He had a new coat for evry hour of the day and often liked to show off his outfits\n",
      "--\n",
      "Title: The Fearsome Princess And A Cowardly Dragon\n",
      "Text: \n"
     ]
    }
   ],
   "source": [
    "example_beginnings = get_segment_of_stories(example_stories, 0)\n",
    "\n",
    "keys_to_use = ['title', 'text']\n",
    "header = 'Exercise: Generate the beginning of the story for children based on a information given.'\n",
    "title = 'the fearsome princess and a cowardly dragon'.title()\n",
    "parameters = [title]\n",
    "\n",
    "prompt = generate_prompt_for_story(example_beginnings, keys_to_use, header, parameters, stop_token=STOP_SEQUENCES[0])\n",
    "print(prompt)"
   ]
  },
  {
   "cell_type": "code",
   "execution_count": 16,
   "id": "1dbcd811-1743-46bc-98e4-2c2262e993bb",
   "metadata": {},
   "outputs": [],
   "source": [
    "# len(prompt)"
   ]
  },
  {
   "cell_type": "code",
   "execution_count": 17,
   "id": "f7affb95-588a-4b1c-a5af-e8e0eaaf61ef",
   "metadata": {},
   "outputs": [],
   "source": [
    "# examples = [random_story_1[0], random_story_2[0]]\n",
    "# titles = [story_title_1, story_title_2]\n",
    "# story_title = 'The Dragon and prince penguin' # should be None if there is \n",
    "# MAX_TOKENS = 1000"
   ]
  },
  {
   "cell_type": "code",
   "execution_count": 18,
   "id": "9a2c48f7-5f5d-425c-91bd-26fdb2b8dd93",
   "metadata": {},
   "outputs": [],
   "source": [
    "# prompt = generate_prompt_for_story(header, examples, titles=titles, story_title=story_title)"
   ]
  },
  {
   "cell_type": "code",
   "execution_count": 19,
   "id": "98823dd3-aa37-46bd-a28b-cffa3e122424",
   "metadata": {},
   "outputs": [
    {
     "name": "stderr",
     "output_type": "stream",
     "text": [
      "\u001b[93mWarning: Your text contains a trailing whitespace, which has been trimmed to ensure high quality generations.\n",
      "\u001b[0m\n"
     ]
    }
   ],
   "source": [
    "beg_result = generate(\n",
    "    prompt,\n",
    "    max_tokens=MAX_TOKENS,\n",
    "    stop_sequences=STOP_SEQUENCES,\n",
    "    temperature=TEMPERATURE,\n",
    "    model=MODEL, \n",
    "    p=MIN_P,\n",
    "    frequency_penalty=FREQ_PENALTY,\n",
    "    presence_penalty=PRESENCE_PENALTY\n",
    ")"
   ]
  },
  {
   "cell_type": "code",
   "execution_count": 20,
   "id": "9cfccd7e-88f1-4ae5-b8fc-5968c6e3aadb",
   "metadata": {},
   "outputs": [],
   "source": [
    "# beg_result.iloc[0]['generation']"
   ]
  },
  {
   "cell_type": "code",
   "execution_count": 21,
   "id": "08f22e4e-a7df-46c4-9345-80a18f8d3d17",
   "metadata": {},
   "outputs": [
    {
     "name": "stdout",
     "output_type": "stream",
     "text": [
      "--------------------------------------------------\n",
      "likelihood: -76.6981995286\n",
      "Title: The Fearsome Princess And A Cowardly Dragon\n",
      "Text: Once upon a time, there was a princess who was very beautiful and kindhearted. She had many suitors but she didn't like any of them because they were all unkind and selfish. One day while taking her walk through the forest she came across a dragon who was sleeping under one of the trees near by...\n",
      "--\n",
      "--------------------------------------------------\n",
      "likelihood: -95.30794127800003\n",
      "Title: The Fearsome Princess And A Cowardly Dragon\n",
      "Text: There was once a princess in a far-away land who feared nothing. She had been raised by her father, the king, who had taught her that fear could not be controlled by anyone, not even him. \"It is something that must come from within,\" he said. \"Only then can you truly conquer your fears.\"\n",
      "--\n",
      "--------------------------------------------------\n",
      "likelihood: -127.49046446100003\n",
      "Title: The Fearsome Princess And A Cowardly Dragon\n",
      "Text: There once was a princess who wanted to marry a prince, but he refused because she was so fearsome! She ate up two princes her father, the king, ordered beheaded just to see if they were tender enough. The dragon would get so angry when people disobeyed her that he'd breathe fire all over them and burn them alive! No one dared approach her... until one day when she met up with this cowardly dragon named George...\n",
      "--\n",
      "--------------------------------------------------\n",
      "likelihood: -335.8917955418998\n",
      "Title: The Fearsome Princess And A Cowardly Dragon\n",
      "Text: There was once an old king who ruled over all the land. All over the land people were sad because they did not have many things to do during the day except work. No one could have fun or relax because everyone had to work hard everyday without rest. It was said that behind his kingdom lived an evil dragon who could turn into a human being or even into another animal. But no one knew where this dragon lived or how it got into their kingdom in the first place. Some people said that it came from far away lands where humans were not allowed to go into but others said it came from another dimension where nothing else existed except darkness and fear. For years no one had seen any sign of this dragon until one day when it appeared out of nowhere right in front of everyone's eyes during lunchtime at school when everyone was eating lunch outside under trees and sitting on benches reading books or chatting with friends before going back inside again after lunch break ends (Source). (Source). (Source). (Source). (Source). (Source). (Source). (Source). (Source). (Source). (Source). (Source). (Source). (Source). (Source). (Source). (Source). (Source). (Source). (Source). (Source). (Source). (Source). (Source). (Source). (Source). (Source). (Source). (Source). (Source). (Source). (Source). (Source). (Source). (Source). (Source). (\n",
      "--------------------------------------------------\n",
      "likelihood: -418.9761461620001\n",
      "Title: The Fearsome Princess And A Cowardly Dragon\n",
      "Text: Long ago, in a faraway kingdom, there lived a princess named Daisy who hated everything about being a princess. She especially hated wearing dresses and doing her hair and nails every morning, but most of all she hated living in that drafty old castle! (...) One day when Daisy was out riding her horse, she came across an old dragon who was stuck in mud up to his neck! (...) \"I am afraid I can't help you,\" said Daisy bravely \"because I don't have any money.\" \"Well,\" said the dragon after thinking for a while, \"If you want to get me out of this muck, you'll have to kiss me!\" (...) So Daisy gave him a big smooch on his snout and the dragon squirmed and slithered until he popped out of the mud! (...) \"Why don't you come home with me?\" asked Daisy sweetly. But when they got back to the castle, it turned out that being a princess wasn't all that bad after all! (...) Everyone thought it was very romantic when they saw them together at dinner that night! It turned out that this wasn't just any dragon; he was actually Prince Charming! And even though he didn't look like much with all those scales covering up his face, underneath them he was as handsome as could be! (...) So now instead of hating her life as princess, Daisy loved it! And now everyone knows how important good manners are\n"
     ]
    }
   ],
   "source": [
    "print_result(beg_result, parameters, keys_to_use, max_words=500)"
   ]
  },
  {
   "cell_type": "markdown",
   "id": "a4f55ecc-79eb-4045-b7c4-2fc14e337030",
   "metadata": {},
   "source": [
    "<h2>Generating continuation - strategy 1: Structured prompt</h2>"
   ]
  },
  {
   "cell_type": "code",
   "execution_count": 22,
   "id": "9ae3064e-0d81-424e-8989-c2422406494f",
   "metadata": {},
   "outputs": [
    {
     "name": "stdout",
     "output_type": "stream",
     "text": [
      "Exercise: Generate the continuation of the story for children based on the title and previous part given.\n",
      "\n",
      "Title: The Ugly Duckling\n",
      "Previous Part: Once upon a time, there was a duck. She lived in the forest. One day she laid some eggs\n",
      "Continuation:  There was one very big egg among the eggs she laid. After warming the eggs carefully, the duck waited for the eggs to hatch. As she watched, three of her eggs cracked and three beautiful ducklings hatched\n",
      "--\n",
      "Title: The Fearsome Princess And A Cowardly Dragon\n",
      "Previous Part:  Once upon a time, there was a princess who was very beautiful and kindhearted. She had many suitors but she didn't like any of them because they were all unkind and selfish. One day while taking her walk through the forest she came across a dragon who was sleeping under one of the trees near by...\n",
      "Continuation: \n"
     ]
    }
   ],
   "source": [
    "example_continuations = get_segment_of_stories(example_stories, 1)\n",
    "example_continuations = example_continuations[:1]\n",
    "for i, cont in enumerate(example_continuations):\n",
    "    cont['Previous Part'] = example_beginnings[i]['text']\n",
    "    cont['Continuation'] = cont['text']\n",
    "    del cont['text']\n",
    "\n",
    "keys_to_use = ['title', 'Previous Part', 'Continuation']\n",
    "header = 'Exercise: Generate the continuation of the story for children based on the title and previous part given.'\n",
    "parameters = [title, beg_result.iloc[0]['generation'].replace(STOP_SEQUENCES[0], '')]\n",
    "\n",
    "\n",
    "prompt = generate_prompt_for_story(example_continuations, keys_to_use, header, parameters)\n",
    "print(prompt)"
   ]
  },
  {
   "cell_type": "code",
   "execution_count": 23,
   "id": "c570d54c-94a1-4d40-89cf-7a9ec7045b9d",
   "metadata": {},
   "outputs": [
    {
     "name": "stderr",
     "output_type": "stream",
     "text": [
      "\u001b[93mWarning: Your text contains a trailing whitespace, which has been trimmed to ensure high quality generations.\n",
      "\u001b[0m\n"
     ]
    }
   ],
   "source": [
    "cont_result = generate(\n",
    "    prompt,\n",
    "    max_tokens=MAX_TOKENS,\n",
    "    stop_sequences=STOP_SEQUENCES,\n",
    "    temperature=TEMPERATURE,\n",
    "    model=MODEL,\n",
    "    p=MIN_P,\n",
    "    frequency_penalty=FREQ_PENALTY,\n",
    "    presence_penalty=PRESENCE_PENALTY\n",
    ")"
   ]
  },
  {
   "cell_type": "code",
   "execution_count": 24,
   "id": "d3c3aa83-df23-4de3-ab79-c347b76f88ee",
   "metadata": {},
   "outputs": [
    {
     "name": "stdout",
     "output_type": "stream",
     "text": [
      "--------------------------------------------------\n",
      "likelihood: -64.97160166\n",
      "Title: The Fearsome Princess And A Cowardly Dragon\n",
      "Previous Part:  Once upon a time, there was a princess who was very beautiful and kindhearted. She had many suitors but she didn't like any of them because they were all unkind and selfish. One day while taking her walk through the forest she came across a dragon who was sleeping under one of the trees near by...\n",
      "Continuation:  The dragon told her that he would do anything for her if only he could be sure that no harm would come to him. The princess agreed to keep him safe from harm if he promised not to eat any humans or destroy their homes or crops...\n",
      "--\n",
      "--------------------------------------------------\n",
      "likelihood: -118.45756135750001\n",
      "Title: The Fearsome Princess And A Cowardly Dragon\n",
      "Previous Part:  Once upon a time, there was a princess who was very beautiful and kindhearted. She had many suitors but she didn't like any of them because they were all unkind and selfish. One day while taking her walk through the forest she came across a dragon who was sleeping under one of the trees near by...\n",
      "Continuation:  When he woke up, he looked at her with his sparkling eyes and said \"I can tell that you are a fearless woman so I would like you to marry me\". The princess was surprised by his words but she agreed because he seemed like such an interesting person even though he did have some bad habits like drinking wine every day without fail. They got married soon after their meeting and lived happily ever after!\n",
      "--\n",
      "--------------------------------------------------\n",
      "likelihood: -137.0526971486999\n",
      "Title: The Fearsome Princess And A Cowardly Dragon\n",
      "Previous Part:  Once upon a time, there was a princess who was very beautiful and kindhearted. She had many suitors but she didn't like any of them because they were all unkind and selfish. One day while taking her walk through the forest she came across a dragon who was sleeping under one of the trees near by...\n",
      "Continuation:  The dragon woke up and said to the princess, \"You are very beautiful and kindhearted but I am so ugly and scary that no one wants me as their friend.\" The princess felt sorry for the dragon and told him that she would be his friend. The dragon was very happy and thanked the princess for being so kind to him. They became good friends and spent many hours together in the forest playing games and having fun. One day the princess decided that it was time for her to get married so she went back home to tell her parents that she had found the perfect husband-to-be...but what will happen when they find out that her husband-to-be is a dragon?!?!?!!!!!                                                                                                                                                            \n",
      "--------------------------------------------------\n",
      "likelihood: -203.8079661384999\n",
      "Title: The Fearsome Princess And A Cowardly Dragon\n",
      "Previous Part:  Once upon a time, there was a princess who was very beautiful and kindhearted. She had many suitors but she didn't like any of them because they were all unkind and selfish. One day while taking her walk through the forest she came across a dragon who was sleeping under one of the trees near by...\n",
      "Continuation:  The princess was scared because she had never seen a dragon before and she thought that he might eat her up! But the dragon was a very gentle creature and he woke up when he heard the princess's footsteps and asked her what was wrong... She told him that she was afraid of him because she had never seen a dragon before and he laughed and said that he was a very gentle dragon and that he didn't eat humans... And they became good friends! One day while they were walking through the forest the princess came across a group of men who were trying to kill her dragon friend... She cried out in fear because she thought that they were going to kill him! But instead of killing him, they took him away with them... And the princess was very sad because she missed her friend so much! But then one day while taking her walk through the forest she came across a beautiful princess who looked just like her! And she was very happy because she had finally found someone who could be her friend! And they became good friends!                                                                                             \n",
      "--------------------------------------------------\n",
      "likelihood: -232.7090162977601\n",
      "Title: The Fearsome Princess And A Cowardly Dragon\n",
      "Previous Part:  Once upon a time, there was a princess who was very beautiful and kindhearted. She had many suitors but she didn't like any of them because they were all unkind and selfish. One day while taking her walk through the forest she came across a dragon who was sleeping under one of the trees near by...\n",
      "Continuation:  When she saw this dragon, she fell in love with him immediately...The princess ran back to her palace as fast as possible and changed into her most beautiful gown which made her look even more beautiful than before...She then went out again looking for this dragon but couldn't find him anywhere... She decided to go back home only to find that there were no lights in her room because someone had turned them off when she wasn't there... Then suddenly an old woman appeared from nowhere and said \" You will be safe now\" before disappearing again... The next morning when she woke up , everything seemed normal except for one thing - all traces of magic had vanished! So what happened? Did someone take away their powers or did something else happen? We'll never know but it's definitely worth reading this story if you want to know more about how things turned out...\n",
      "--\n"
     ]
    }
   ],
   "source": [
    "print_result(cont_result, parameters, keys_to_use, max_words=500)"
   ]
  },
  {
   "cell_type": "markdown",
   "id": "27152642-19bf-4d5c-becc-26be8aded6a3",
   "metadata": {},
   "source": [
    "<h2>Generating continuation - strategy 2: No examples</h2>"
   ]
  },
  {
   "cell_type": "code",
   "execution_count": 25,
   "id": "d53da147-4065-4f56-a3b2-78e638daeffa",
   "metadata": {},
   "outputs": [
    {
     "name": "stdout",
     "output_type": "stream",
     "text": [
      "Story title: The Fearsome Princess And A Cowardly Dragon\n",
      " Once upon a time, there was a princess who was very beautiful and kindhearted. She had many suitors but she didn't like any of them because they were all unkind and selfish. One day while taking her walk through the forest she came across a dragon who was sleeping under one of the trees near by...\n",
      "\n"
     ]
    }
   ],
   "source": [
    "# prompt\n",
    "prompt = f'Story title: {parameters[0]}\\n'\n",
    "prompt += beg_result.iloc[0]['generation'].replace(STOP_SEQUENCES[0], '')\n",
    "print(prompt)"
   ]
  },
  {
   "cell_type": "code",
   "execution_count": 26,
   "id": "67a5839c-8bd8-40f3-b35e-0e70184eeb51",
   "metadata": {},
   "outputs": [
    {
     "name": "stderr",
     "output_type": "stream",
     "text": [
      "\u001b[93mWarning: Your text contains a trailing whitespace, which has been trimmed to ensure high quality generations.\n",
      "\u001b[0m\n"
     ]
    }
   ],
   "source": [
    "cont_result_2 = generate(\n",
    "    prompt,\n",
    "    max_tokens=MAX_TOKENS,\n",
    "    stop_sequences=STOP_SEQUENCES,\n",
    "    temperature=TEMPERATURE,\n",
    "    model=MODEL,\n",
    "    p=MIN_P,\n",
    "    frequency_penalty=FREQ_PENALTY,\n",
    "    presence_penalty=PRESENCE_PENALTY\n",
    ")"
   ]
  },
  {
   "cell_type": "code",
   "execution_count": 27,
   "id": "0d1b2679-d17c-4a35-a100-af4c7adc6584",
   "metadata": {},
   "outputs": [
    {
     "name": "stdout",
     "output_type": "stream",
     "text": [
      "--------------------------------------------------\n",
      "Story title: The Fearsome Princess And A Cowardly Dragon\n",
      " Once upon a time, there was a princess who was very beautiful and kindhearted. She had many suitors but she didn't like any of them because they were all unkind and selfish. One day while taking her walk through the forest she came across a dragon who was sleeping under one of the trees near by...\n",
      "\n",
      "\n",
      "==Cast==\n",
      "*Heng Ee - The Fearsome Princess (Princess Margaretha)\n",
      "*Ker Ying - The Cowardly Dragon (Dragon) \n",
      "*Mazlan Ahmad - The King (Sultan) \n",
      "*Mahmood Ali - The Prime Minister (Tunku Besar) \n",
      "*Omar Rojik - The Royal Horseman (Pegawai Kerana Diraja) \n",
      "*Fadzil Ali - The Royal Horseman (Pegawai Kerana Diraja) \n",
      "*Dullah Hashim - The Royal Horseman (Pegawai Kerana Diraja) \n",
      "*Yusoff Latiff - The Royal Horseman (Pegawai Kerana Diraja) \n",
      "*Salleh Kamil - The Royal Horseman (Pegawai Kerana Diraja) \n",
      "*Suhaimi Kamat - The Royal Horseman (Pegawai Kerana Diraja) \n",
      "*Ani Hamidah - The Royal Horseman (Pegawai Kerana Diraja) \n",
      "*Sarimah - A Dancer \n",
      "*Harun Salleh - A Dancer \n",
      "*Siti Tanjung Perak - A Dancer \n",
      "*Habsah - A Dancer \n",
      "*Jah Harun - A Dancer \n",
      "*Ismail Mahmud - A Dancer \n",
      "--------------------------------------------------\n",
      "Story title: The Fearsome Princess And A Cowardly Dragon\n",
      " Once upon a time, there was a princess who was very beautiful and kindhearted. She had many suitors but she didn't like any of them because they were all unkind and selfish. One day while taking her walk through the forest she came across a dragon who was sleeping under one of the trees near by...\n",
      "\n",
      "\n",
      "Once upon a time, there was a princess who was very beautiful and kindhearted. She had many suitors but she didn't like any of them because they were all unkind and selfish. One day while taking her walk through the forest she came across a dragon who was sleeping under one of the trees near by. The princess was frightened by the sight of the dragon and started to run away. The dragon opened its eyes and called out to her in a soft voice, \"Princess! Please stop! Don't be afraid! I won't hurt you.\"\n",
      "The princess stopped running when she heard this voice. She turned around to see what it was that had spoken to her so softly. When she saw that it was only an old dragon lying on its side with its eyes closed again, she relaxed somewhat. \"What do you want from me?\" she asked timidly. \"Nothing much,\" replied the dragon with its eyes still closed tight shut against any light or sound from outside its body cavity where it felt most safe hidden away deep inside itself where nothing could reach it without permission given freely first by itself alone before anything else could enter its private sanctuary where only peace existed without fear even though danger lurked just outside waiting patiently for its chance at life once more if only someone would open those heavy eyelids enough so as not be caught off guard! \"You see,\" continued this strange creature which looked more like some sort of reptile than anything else but wasn't\n",
      "--------------------------------------------------\n",
      "Story title: The Fearsome Princess And A Cowardly Dragon\n",
      " Once upon a time, there was a princess who was very beautiful and kindhearted. She had many suitors but she didn't like any of them because they were all unkind and selfish. One day while taking her walk through the forest she came across a dragon who was sleeping under one of the trees near by...\n",
      "\n",
      "\n",
      "==Cast==\n",
      "* Zhu Zhu as Princess Pei Pei\n",
      "* Yang Mi as Wu Meiniang\n",
      "* Jiro Wang as Wu Zhiyuan\n",
      "* Da Peng as Wu Zhuohua\n",
      "* Nie Yuan as Gu Qing\n",
      "* Han Geng as Liu Yuan\n",
      "* Hu Ge as Xu Ningyu\n",
      "* Zhou Dongyu as Zhihua\n",
      "* Guo Jingfei as Liang Yuanbo\n",
      "* Yang Yang as Wu Zhiyuan (child)\n",
      "* Wu Yue as Wu Zhiyuan (teenager)\n",
      "* Huang Yi as Wu Zhiyuan (adult)\n",
      "* Xie Yilin as Wu Zhiyuan (older)\n",
      "* Zhou Dongyu as Meiniang (child)\n",
      "* Yin Zhusheng as Meiniang (teenager)\n",
      "* Lin Miaoke as Meiniang (adult)\n",
      "* Xu Fan as Liang Yuanbo (child)\n",
      "* Li Xuan as Liang Yuanbo (teenager)\n",
      "* Luo Jin as Liang Yuanbo (adult)\n",
      "* Li Zhihong as Wu Zhiyuan (younger)\n",
      "* Chen Jiafeng as Wu Zhiyuan (older)\n",
      "* Zhang Ziyi as Meiniang (younger)\n",
      "* Zhang Ziyi as Meiniang (older\n",
      "--------------------------------------------------\n",
      "Story title: The Fearsome Princess And A Cowardly Dragon\n",
      " Once upon a time, there was a princess who was very beautiful and kindhearted. She had many suitors but she didn't like any of them because they were all unkind and selfish. One day while taking her walk through the forest she came across a dragon who was sleeping under one of the trees near by...\n",
      " The princess went up to him and said, \"I would like you to be my husband, but first I must know if you are kind or not.\" The dragon replied, \"What does that have to do with it?\" The princess said, \"You must be kind because if not then I cannot marry you.\" \"I am not kind,\" said the dragon. \"Well,\" said the princess, \"if that is true then go away from here and never come back again.\" So she left him alone in the forest and went home without marrying anyone else.\n",
      "\n",
      "==History==\n",
      "The story was published in ''The Fairy Tale Review'' as a part of their special issue on fairy tales from Japan. It was later included in Tanith Lee's collection ''Red As Blood''. \n",
      "\n",
      "==Reception==\n",
      "Tanith Lee's story has been described as a modern interpretation of the German fairy tale ''Prince Lindworm'' by Jacob and Wilhelm Grimm, as well as being a retelling of an ancient Chinese legend about a cowardly dragon. It has also been cited as an example of how Western interpretations of traditional Asian stories can be inaccurate due to cultural differences between East and West. For example, in this story it is implied that dragons do not exist outside Asia when in reality they are found throughout Europe and North America too; however, this may be because dragons are often associated with Asian culture rather than Western ones despite having been present for centuries before becoming popularized during\n",
      "--------------------------------------------------\n",
      "Story title: The Fearsome Princess And A Cowardly Dragon\n",
      " Once upon a time, there was a princess who was very beautiful and kindhearted. She had many suitors but she didn't like any of them because they were all unkind and selfish. One day while taking her walk through the forest she came across a dragon who was sleeping under one of the trees near by...\n",
      "\n",
      "\n",
      "===A Japanese tale===\n",
      "In a variant collected by Shinobu Orikuchi, ''The Girl Who Became a Dragon'', from Yamanashi Prefecture, a man is visited by his deceased father, who tells him that he must marry his younger sister to prevent her from marrying an ogre. The man marries her and they live happily for some time, until the husband falls ill and dies. The sister is distraught and prays to become a dragon in the afterlife to be with him again; her prayer is granted and she becomes a dragon. Her brother finds her in this form in the afterlife, and they live happily ever after as dragons.\n",
      "\n",
      "====Korea====\n",
      "Korean scholarship reports that Korean folktales follow this story pattern with certain differences. In these tales, there are three brothers; the youngest brother is chosen by the king to succeed him as king when he dies. He does not want to marry his older sisters (one or two) because they are too old; he does not want to marry his youngest sister because she is too young. Instead, he chooses an \"ugly\" servant girl as his wife. When the old king dies, the people revolt against the new king's choice for queen, because of her ugliness. The new queen prays for beauty for herself and for her husband to understand her pain of being ugly; this request is also granted. But the jealousy of\n"
     ]
    }
   ],
   "source": [
    "for i, row in cont_result_2.iterrows():\n",
    "    print('-'*50)\n",
    "    print(prompt + row['generation'])"
   ]
  },
  {
   "cell_type": "markdown",
   "id": "f2cc0190-a14e-4829-8561-ef39f8187348",
   "metadata": {},
   "source": [
    "<strong>Seems like the first approach is better so let's go with that</strong>"
   ]
  },
  {
   "cell_type": "markdown",
   "id": "c979e0ad-677b-4988-bbf8-f0e6cb831067",
   "metadata": {},
   "source": [
    "<h2>Generating ending</h2>"
   ]
  },
  {
   "cell_type": "code",
   "execution_count": 28,
   "id": "2cebd607-48a9-4dea-bb51-30af6943d307",
   "metadata": {},
   "outputs": [
    {
     "name": "stdout",
     "output_type": "stream",
     "text": [
      "Exercise: Finish the story for children based on the title and previous part given.\n",
      "\n",
      "Title: The Ugly Duckling\n",
      "Previous Part: Once upon a time, there was a duck. She lived in the forest. One day she laid some eggs There was one very big egg among the eggs she laid. After warming the eggs carefully, the duck waited for the eggs to hatch. As she watched, three of her eggs cracked and three beautiful ducklings hatched\n",
      "Story Ending:  The ugly duckling now heard the swans say that he was the most beautiful among them. Now he was no more the ugly duckling. He lived with his new family and they lived happily ever after\n",
      "--\n",
      "Title: The Fearsome Princess And A Cowardly Dragon\n",
      "Previous Part:  Once upon a time, there was a princess who was very beautiful and kindhearted. She had many suitors but she didn't like any of them because they were all unkind and selfish. One day while taking her walk through the forest she came across a dragon who was sleeping under one of the trees near by...\n",
      "  The dragon told her that he would do anything for her if only he could be sure that no harm would come to him. The princess agreed to keep him safe from harm if he promised not to eat any humans or destroy their homes or crops...\n",
      "Story Ending: \n"
     ]
    }
   ],
   "source": [
    "# NOTE: here we use 2 first fragment of each story and the last fragment.\n",
    "# It probably would be better to use 3 last fragments or summarization of the story so far and a last fragment\n",
    "# Preprocessing: Add THE END for all of the examples / add lived happily ever after\n",
    "example_endings = get_segment_of_stories(example_stories, -1)\n",
    "example_endings = example_endings[:1]\n",
    "for i, ending in enumerate(example_endings):\n",
    "    ending['Previous Part'] = example_continuations[0]['Previous Part'] + example_continuations[0]['Continuation']\n",
    "    ending['Story Ending'] = ending['text']\n",
    "    \n",
    "    del ending['text']\n",
    "    # print(ending)\n",
    "\n",
    "keys_to_use = ['title', 'Previous Part', 'Story Ending']\n",
    "header = 'Exercise: Finish the story for children based on the title and previous part given.'\n",
    "\n",
    "# NOTE: here we use the whole stories generated so far. It may be impossible to do so in the application as we are limited by a number of tokens\n",
    "# TODO: I think we can either use only last or couple last fragments of what was generated so far or a summary of everything that was generated so far\n",
    "generated_so_far = beg_result.iloc[0]['generation'].replace(STOP_SEQUENCES[0], '') + cont_result.iloc[0]['generation'].replace(STOP_SEQUENCES[0], '')\n",
    "parameters = [title, generated_so_far]\n",
    "\n",
    "\n",
    "prompt = generate_prompt_for_story(example_endings, keys_to_use, header, parameters)\n",
    "print(prompt)"
   ]
  },
  {
   "cell_type": "code",
   "execution_count": 29,
   "id": "c0e3b213-5a68-40bc-8279-fb30e2d321e2",
   "metadata": {},
   "outputs": [
    {
     "name": "stderr",
     "output_type": "stream",
     "text": [
      "\u001b[93mWarning: Your text contains a trailing whitespace, which has been trimmed to ensure high quality generations.\n",
      "\u001b[0m\n"
     ]
    }
   ],
   "source": [
    "end_result = generate(\n",
    "    prompt,\n",
    "    max_tokens=MAX_TOKENS,\n",
    "    stop_sequences=STOP_SEQUENCES,\n",
    "    temperature=TEMPERATURE,\n",
    "    model=MODEL,\n",
    "    p=MIN_P,\n",
    "    frequency_penalty=FREQ_PENALTY,\n",
    "    presence_penalty=PRESENCE_PENALTY\n",
    ")"
   ]
  },
  {
   "cell_type": "code",
   "execution_count": 30,
   "id": "a0a81726-c280-4e42-a2c7-dcaa7adfe63f",
   "metadata": {},
   "outputs": [
    {
     "name": "stdout",
     "output_type": "stream",
     "text": [
      "--------------------------------------------------\n",
      "likelihood: -11.689428327300003\n",
      "Title: The Fearsome Princess And A Cowardly Dragon\n",
      "Previous Part:  Once upon a time, there was a princess who was very beautiful and kindhearted. She had many suitors but she didn't like any of them because they were all unkind and selfish. One day while taking her walk through the forest she came across a dragon who was sleeping under one of the trees near by...\n",
      "  The dragon told her that he would do anything for her if only he could be sure that no harm would come to him. The princess agreed to keep him safe from harm if he promised not to eat any humans or destroy their homes or crops...\n",
      "Story Ending:  She married the dragon and they lived happily ever after!\n",
      "--\n",
      "--------------------------------------------------\n",
      "likelihood: -45.0548506916\n",
      "Title: The Fearsome Princess And A Cowardly Dragon\n",
      "Previous Part:  Once upon a time, there was a princess who was very beautiful and kindhearted. She had many suitors but she didn't like any of them because they were all unkind and selfish. One day while taking her walk through the forest she came across a dragon who was sleeping under one of the trees near by...\n",
      "  The dragon told her that he would do anything for her if only he could be sure that no harm would come to him. The princess agreed to keep him safe from harm if he promised not to eat any humans or destroy their homes or crops...\n",
      "Story Ending:  So they became friends and went on many adventures together! They saved each other's lives countless times as well as those of others who needed help too! They lived happily ever after!\n",
      "--\n",
      "--------------------------------------------------\n",
      "likelihood: -61.40020712960001\n",
      "Title: The Fearsome Princess And A Cowardly Dragon\n",
      "Previous Part:  Once upon a time, there was a princess who was very beautiful and kindhearted. She had many suitors but she didn't like any of them because they were all unkind and selfish. One day while taking her walk through the forest she came across a dragon who was sleeping under one of the trees near by...\n",
      "  The dragon told her that he would do anything for her if only he could be sure that no harm would come to him. The princess agreed to keep him safe from harm if he promised not to eat any humans or destroy their homes or crops...\n",
      "Story Ending:  After this agreement had been made between them both parties went off happily into different directions never seeing each other again but knowing that they had made an everlasting friendship which would last until death took them away from each other forever more!\n",
      "--\n",
      "--------------------------------------------------\n",
      "likelihood: -176.97686650429992\n",
      "Title: The Fearsome Princess And A Cowardly Dragon\n",
      "Previous Part:  Once upon a time, there was a princess who was very beautiful and kindhearted. She had many suitors but she didn't like any of them because they were all unkind and selfish. One day while taking her walk through the forest she came across a dragon who was sleeping under one of the trees near by...\n",
      "  The dragon told her that he would do anything for her if only he could be sure that no harm would come to him. The princess agreed to keep him safe from harm if he promised not to eat any humans or destroy their homes or crops...\n",
      "Story Ending:  They lived together happily ever after in peace and harmony.. Everyone loved them both because they were so different from each other yet still made such good friends! They had many adventures together but none as exciting as when they saved each other from certain death at sea during an attack by pirates! It turned out that these pirates were actually evil wizards disguised as humans trying to take over land where nobody could stop them because it belonged to neither kingdom nor empire... But thanks to this fearless princess and brave dragon everyone lived happily ever after! Thank goodness those two heroes were there when we needed them most! \n",
      " --\n",
      "--------------------------------------------------\n",
      "likelihood: -341.42805362967994\n",
      "Title: The Fearsome Princess And A Cowardly Dragon\n",
      "Previous Part:  Once upon a time, there was a princess who was very beautiful and kindhearted. She had many suitors but she didn't like any of them because they were all unkind and selfish. One day while taking her walk through the forest she came across a dragon who was sleeping under one of the trees near by...\n",
      "  The dragon told her that he would do anything for her if only he could be sure that no harm would come to him. The princess agreed to keep him safe from harm if he promised not to eat any humans or destroy their homes or crops...\n",
      "Story Ending:  So every night when it got dark out side ,the princess would climb up on top of the mountain where she lived with her family . She would wait patiently until morning when it got light again before going back down into town . One day while waiting on top of this mountain ,she saw something coming towards her .It looked like some kind of animal but it seemed much larger than any animal should be .The princess started running towards home as fast as she could ,but before long something caught up with her .She looked up and saw that it was indeed a dragon .She tried screaming for help ,but nothing came out .The dragon picked her up in its mouth ,and flew off with her towards its lair .There ,the princess found herself tied up inside a cage .She tried screaming again ,but nothing came out .The dragon left ,and when it returned ,the princess tried asking why she had been taken captive .The dragon said that if she didn't agree to marry him ,he would kill her .The princess tried screaming again ,but nothing came out .She tried begging for mercy ,but nothing worked .The dragon told her that if she did agree ,he would let her go home .The princess said yes ,and so they got married .Afterwards ,the princess went back home .She never saw her husband again .She always wondered what happened to him .One day ,she found out .She saw him walking down main street .He looked happy ,so she decided\n"
     ]
    }
   ],
   "source": [
    "print_result(end_result, parameters, keys_to_use)"
   ]
  },
  {
   "cell_type": "markdown",
   "id": "c5f49346-ac38-4195-abe5-76c9f3780cdb",
   "metadata": {},
   "source": [
    "<h1>Old</h1>"
   ]
  },
  {
   "cell_type": "code",
   "execution_count": 31,
   "id": "a42ca88d",
   "metadata": {},
   "outputs": [],
   "source": [
    "# print(result.info())"
   ]
  },
  {
   "cell_type": "code",
   "execution_count": 32,
   "id": "14efc750-472b-40da-a911-9bea0fe809a6",
   "metadata": {},
   "outputs": [],
   "source": [
    "# result.iloc[0]['generation']"
   ]
  },
  {
   "cell_type": "code",
   "execution_count": 33,
   "id": "469519fc",
   "metadata": {},
   "outputs": [],
   "source": [
    "# print(result['generation'][0])"
   ]
  },
  {
   "cell_type": "code",
   "execution_count": 34,
   "id": "a52b00c6",
   "metadata": {},
   "outputs": [],
   "source": [
    "# test_string = \"\"\"\n",
    "# Once upon a time, there was a farmer with three little pigs. He did not have enough food to take care of his pigs so he sent them away to take care of themselves. The first little pig was walking on the road. Suddenly he saw a man with some straws. He could  build a house with the straws, he said to himself and asked the man to give him his straws. The man was kind so he gave the first little pig his straws. The pig used the straws to build a straw house and danced around. Suddenly, a big bad wo\n",
    "# \"\"\""
   ]
  },
  {
   "cell_type": "code",
   "execution_count": 35,
   "id": "305d5e00",
   "metadata": {},
   "outputs": [],
   "source": [
    "# len(test_string)"
   ]
  },
  {
   "cell_type": "code",
   "execution_count": null,
   "id": "7e51633c",
   "metadata": {},
   "outputs": [],
   "source": []
  }
 ],
 "metadata": {
  "kernelspec": {
   "display_name": "cohere_hackathon",
   "language": "python",
   "name": "cohere_hackathon"
  },
  "language_info": {
   "codemirror_mode": {
    "name": "ipython",
    "version": 3
   },
   "file_extension": ".py",
   "mimetype": "text/x-python",
   "name": "python",
   "nbconvert_exporter": "python",
   "pygments_lexer": "ipython3",
   "version": "3.9.7"
  },
  "vscode": {
   "interpreter": {
    "hash": "a360b78c71b5f49ff292419317a20d8854e0163ad331d295b8b4eaeec07fff6f"
   }
  }
 },
 "nbformat": 4,
 "nbformat_minor": 5
}
