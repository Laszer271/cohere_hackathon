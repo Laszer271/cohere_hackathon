{
 "cells": [
  {
   "cell_type": "code",
   "execution_count": 32,
   "id": "38f111a0",
   "metadata": {},
   "outputs": [],
   "source": [
    "import json\n",
    "import sys\n",
    "if '..' not in sys.path:\n",
    "    sys.path.append('..')\n",
    "\n",
    "import cohere\n",
    "import pandas as pd\n",
    "\n",
    "from stability_sdk import client\n",
    "import stability_sdk.interfaces.gooseai.generation.generation_pb2 as generation"
   ]
  },
  {
   "cell_type": "markdown",
   "id": "c3a6ced5",
   "metadata": {},
   "source": [
    "# APIs"
   ]
  },
  {
   "cell_type": "code",
   "execution_count": 4,
   "id": "80c32711-8021-43ae-acb1-a2332a69e682",
   "metadata": {},
   "outputs": [],
   "source": [
    "with open('../cohere_api_key.txt', 'r') as f:\n",
    "    cohere_api_key = f.read()\n",
    "co = cohere.Client(cohere_api_key)\n",
    "\n",
    "with open('../stability_api_key.txt', 'r') as f:\n",
    "    stability_api_key = f.read()\n",
    "stability_api = client.StabilityInference(\n",
    "    key=stability_api_key, \n",
    "    verbose=True,\n",
    ")\n",
    "\n",
    "del cohere_api_key\n",
    "del stability_api_key"
   ]
  },
  {
   "cell_type": "markdown",
   "id": "4d68574f",
   "metadata": {},
   "source": [
    "# Summarizing stories"
   ]
  },
  {
   "cell_type": "code",
   "execution_count": 27,
   "id": "d33da425",
   "metadata": {},
   "outputs": [],
   "source": [
    "def summarize(prompt, model=\"xlarge\", \n",
    "             num_generations=5, temperature=0.7, \n",
    "             max_tokens=2000, stop_sequences=['<end>']):\n",
    "             \n",
    "  prediction = co.generate(\n",
    "    model=model,\n",
    "    prompt=prompt,\n",
    "    return_likelihoods = 'GENERATION',\n",
    "    stop_sequences=stop_sequences,\n",
    "    max_tokens=max_tokens,\n",
    "    temperature=temperature,\n",
    "    num_generations=num_generations)\n",
    "  \n",
    "  # Get list of generations\n",
    "  gens = []\n",
    "  likelihoods = []\n",
    "  for gen in prediction.generations:\n",
    "      gens.append(gen.text)\n",
    "      \n",
    "      sum_likelihood = 0\n",
    "      for t in gen.token_likelihoods:\n",
    "          sum_likelihood += t.likelihood\n",
    "      # Get sum of likelihoods\n",
    "      likelihoods.append(sum_likelihood)\n",
    "\n",
    "  pd.options.display.max_colwidth = 200\n",
    "  # Create a dataframe for the generated sentences and their likelihood scores\n",
    "  df = pd.DataFrame({'generation': gens, 'likelihood': likelihoods})\n",
    "  # Drop duplicates\n",
    "  df = df.drop_duplicates(subset=['generation'])\n",
    "  # Sort by highest sum likelihood\n",
    "  df = df.sort_values('likelihood', ascending=False, ignore_index=True)\n",
    "  \n",
    "  return df"
   ]
  },
  {
   "cell_type": "markdown",
   "id": "45a55356",
   "metadata": {},
   "source": [
    "### Tutorial"
   ]
  },
  {
   "cell_type": "code",
   "execution_count": 28,
   "id": "7e51633c",
   "metadata": {},
   "outputs": [],
   "source": [
    "prompt = f\"\"\"Passage: Is Wordle getting tougher to solve? \\\n",
    "    Players seem to be convinced that the game has gotten harder in recent weeks \\\n",
    "    ever since The New York Times bought it from developer Josh Wardle in late January. \\\n",
    "    The Times has come forward and shared that this likely isn't the case. \\\n",
    "    That said, the NYT did mess with the back end code a bit, removing some offensive \\\n",
    "    and sexual language, as well as some obscure words There is a viral thread \\\n",
    "    claiming that a confirmation bias was at play. One Twitter user went so far as \\\n",
    "    to claim the game has gone to \"the dusty section of the dictionary\" \\\n",
    "    to find its latest words.\n",
    "\n",
    "TLDR: Wordle has not gotten more difficult to solve.\n",
    "--\n",
    "Passage: ArtificialIvan, a seven-year-old, London-based payment and expense management \\\n",
    "software company, has raised $190 million in Series C funding led by ARG Global, \\\n",
    "with participation from D9 Capital Group and Boulder Capital. Earlier backers also \\\n",
    "joined the round, including Hilton Group, Roxanne Capital, Paved Roads Ventures, \\\n",
    "Brook Partners, and Plato Capital.\n",
    "\n",
    "TLDR: ArtificialIvan has raised $190 million in Series C funding.\n",
    "--\n",
    "Passage: The National Weather Service announced Tuesday that a freeze warning is in \\\n",
    "effect for the Bay Area, with freezing temperatures expected in these areas overnight. \\\n",
    "    Temperatures could fall into the mid-20s to low 30s in some areas. In anticipation \\\n",
    "    of the hard freeze, the weather service warns people to take action now.\n",
    "\n",
    "TLDR:\"\"\""
   ]
  },
  {
   "cell_type": "code",
   "execution_count": 29,
   "id": "128d3348",
   "metadata": {},
   "outputs": [],
   "source": [
    "response = co.generate( \n",
    "    model='xlarge', \n",
    "    prompt = prompt,\n",
    "    max_tokens=100, \n",
    "    temperature=1.5,\n",
    "    stop_sequences=[\"--\"])"
   ]
  },
  {
   "cell_type": "code",
   "execution_count": 30,
   "id": "fafdfd79",
   "metadata": {},
   "outputs": [],
   "source": [
    "summary = response.generations[0].text"
   ]
  },
  {
   "cell_type": "code",
   "execution_count": 31,
   "id": "57935dd4",
   "metadata": {},
   "outputs": [
    {
     "name": "stdout",
     "output_type": "stream",
     "text": [
      " Freeze warnings are in effect for the Bay Area.\n",
      "--\n"
     ]
    }
   ],
   "source": [
    "print(summary)"
   ]
  },
  {
   "cell_type": "markdown",
   "id": "1b905685",
   "metadata": {},
   "source": [
    "### Actual fairytales"
   ]
  },
  {
   "cell_type": "code",
   "execution_count": 33,
   "id": "76028516",
   "metadata": {},
   "outputs": [],
   "source": [
    "with open('../data/stories/fairy_tales.json', errors='ignore') as f:\n",
    "    data = json.load(f)\n",
    "    # text = data['text']\n",
    "    # print(type(text), len(text))"
   ]
  },
  {
   "cell_type": "code",
   "execution_count": 35,
   "id": "2932cf8a",
   "metadata": {},
   "outputs": [
    {
     "name": "stdout",
     "output_type": "stream",
     "text": [
      "Hansel and Gretel\n",
      "\n",
      "Cast out by their parents, the starving brother and sister stumble on the edible house of an old woman. They don't know she's built the house specifically to lure children to their death. The old woman cages Hansel and forces Gretel to work as a servant, but in the end Gretel manages to kill the woman and free her brother. They return home with riches from the house in the woods to find their stepmother dead and their father overjoyed to see them.\n"
     ]
    }
   ],
   "source": [
    "for story in data:\n",
    "    print(story['title'])\n",
    "    print()\n",
    "    print(story['summary'])\n",
    "    break"
   ]
  },
  {
   "cell_type": "code",
   "execution_count": 37,
   "id": "017ed7a3",
   "metadata": {},
   "outputs": [
    {
     "name": "stdout",
     "output_type": "stream",
     "text": [
      "Once upon a time, a brother and sister named Hansel and Gretel lived in a hut in the woods with their father who was a poor woodcutter and their mother. Their parents were very poor and had barely enough food to eat One day, their parents sent them off into the woods in search of greener pastures. Their mother cried as she sent them off but they could not take care of them any longer. Hansel and Gretel took a few pebbles and some bread crumbs with them. That night the two children had nowhere to sleep. They wandered in the forest for days, looking for food and a place to stay. The children slept under a tree that night and kept each other warm. The next morning when the sun rose, Hansel turned to his little sister. â€śGretel,â€ť he said, â€śwe cannot stay here.  We must go deeper into the woods!  Surely we will find more to eat than what we get at home and we can bring some food for mother and fatherâ€ť Gretel was worried. â€śBut what if we get lost?â€ť she asked â€śWe wonâ€™t!â€ť said Hansel.  â€śIf we get lost, we will follow the pebbles back home.â€ť As they went deeper and deeper into the forest, the children decided to drop pebbles on the path to help them find a way back home if they get lost. Soon, they had no more pebbles and all they had left were bread crumbs.  Gretel was careful to drop one crumb and then after a bit, another. There was no luck and the children had looked and looked for any sign of something to eat â€“ an apple tree, pear tree, some nuts on the ground, or even dried-up berries.  There was nothing to eat!  They got hungrier and hungrier and the children were tired. They decided to go back home or they would starve. They turned back and all the bread crumbs were gone. Now they were lost! They did not know their way back home. â€śOh, no!â€ť cried Gretel â€śThe birds ate up all the crumbs!â€ť the children were sad. Gretel began to cry but Hansel assured her they will be safe. They walked on and suddenly, a wolf howled in the distance. They hurried away to avoid being eaten by the wolf. The sun was setting and the children were lost and hungry.  Now they were scared, too. Soon, they saw a strange house made up of cookies, candies, and chocolates. The children were immediately happy and ran along the path to the house. They knocked at the yummy chocolate door but nobody answered. They knocked again and the door opened. The children were too hungry to wait for the owner of the house. They went in and started to eat the yummy door. When they both were eating the yummy door, a witch pounced on them. The strange house belonged to a witch! The children begged for their lives but the evil witch did not listen. She locked up Hansel in a cage and asked Gretel to help her heat the oven. She would cook them and eat them up. But just as the witch bent to check the ovenâ€™s temperature, Gretel pushed her from behind and locked the oven door. Gretel rescued Hansel and they filled their pockets with the witchâ€™s jewels and goodies. They ran as fast as they could through the forest without stopping. They were too scared to stop for the witch may catch up to them. Finally, they managed to find their way back home and gave jewels to their parents. Thanks to the clever children! The family was never poor and hungry again.\n",
      "\n",
      "Cast out by their parents, the starving brother and sister stumble on the edible house of an old woman. They don't know she's built the house specifically to lure children to their death. The old woman cages Hansel and forces Gretel to work as a servant, but in the end Gretel manages to kill the woman and free her brother. They return home with riches from the house in the woods to find their stepmother dead and their father overjoyed to see them.\n",
      "\n",
      "Once upon a time, there was a farmer with three little pigs. He did not have enough food to take care of his pigs so he sent them away to take care of themselves. The first little pig was walking on the road. Suddenly he saw a man with some straws. He could  build a house with the straws, he said to himself and asked the man to give him his straws. The man was kind so he gave the first little pig his straws. The pig used the straws to build a straw house and danced around. Suddenly, a big bad wolf knocked on the door. â€śLittle pig, little pig, let me come in.â€ť The big bad wolf said â€śNo! Go away big bad wolfâ€ť, the little pig said â€śThen Iâ€™ll puff, and Iâ€™ll huff, and Iâ€™ll blow your house in.â€ś, the big bad wolf said So he huffed, and puffed, and he blew the house down. The big bad wolf ate up the little pig. The second little pig saw a man with some mud. He coud build a house with the mud, he said to himself and asked the man to give him his mud. The man was also kind so he gave the second little pig his mud. The pig used the mud to build a mud house and danced around. Suddenly, a big bad wolf knocked on the door. â€śLittle pig, little pig, let me come in.â€ť The big bad wolf said â€śNo! Go away big bad wolfâ€ť, the little pig said â€śThen Iâ€™ll puff, and Iâ€™ll huff, and Iâ€™ll blow your house in.â€ś, the big bad wolf said So he huffed, and puffed, and huffed and puffed and huffed and puffed once more then he blew the house down. The big bad wolf ate up the second little pig. The third little pig saw a man with some red bricks. He could build a house with the red bricks, he said to himself and asked the man to give him his red bricks. The man was kind too so he gave the third little pig his straws. The pig used the straws to build a straw house and danced around. Suddenly, a big bad wolf knocked on the door. â€śLittle pig, little pig, let me come in.â€ť The big bad wolf said â€śNo! Go away big bad wolfâ€ť, the little pig said â€śThen Iâ€™ll puff, and Iâ€™ll huff, and Iâ€™ll blow your house in.â€ś, the big bad wolf said So he huffed, and puffed, and huffed and puffed, and huffed and puffed and huffed and puffed once more but he could not blow down the house. The red brick was very strong. The third little pig was very happy that the wolf could not blow down his house. The wolf was very angry. He had a new plan. He will trick the little pig so that it will step out of the house and he will eat the little pig. â€śLittle pig, I know where there are nice applesâ€ť â€śWhere?â€ť asked the little pig. â€śThey are in the fields up the hill. If you will, we will go together tomorrow and get some for dinner.â€ť â€śOkay,â€ť said the little pig, â€śI will be ready. What time are we going?â€ť, asked the little pig. â€śAt six oâ€clockâ€ť, said the big bad wolf. The next day, the pig woke up very early and went to fetch the apples before the big bad wolf arrived. â€śLittle pig, are you ready?â€ť, the big bad wolf asked.  I have gone and come back, and got a nice potful for dinner.â€ť, said the little pig. The wolf felt very angry at this. The little pig was very smart. He decided to climb up the chimney but the little pig was very smart indeed. He placed a big pot of boiling water at the bottom of the chimney. When the big bad wolf climbed down, he fell into the pot of boiling water. The little pig cheered. Now, the  big bad wolf was no more.\n"
     ]
    }
   ],
   "source": [
    "#TODO: wygląda na to, że trzeba zrobić jakiś cleanup historii,\n",
    "# aby usunąć ten znak: â€ś\n",
    "\n",
    "print(data[0]['text'])\n",
    "print()\n",
    "print(data[0]['summary'])\n",
    "print()\n",
    "print(data[1]['text'])"
   ]
  },
  {
   "cell_type": "code",
   "execution_count": 40,
   "id": "39e28fe4",
   "metadata": {},
   "outputs": [],
   "source": [
    "# too_long_prompt = f\"\"\"{data[0]['text']}\n",
    "\n",
    "# TLDR: Two starving children found eatable house inhabited by witch. \\\n",
    "#     She cages them and plans to eat them, but Hansel and Gretel manage to kill her and escape.\n",
    "# --\n",
    "\n",
    "# {data[1]['text']}\n",
    "\n",
    "# TLDR: \n",
    "# \"\"\""
   ]
  },
  {
   "cell_type": "code",
   "execution_count": 48,
   "id": "977f0caa",
   "metadata": {},
   "outputs": [],
   "source": [
    "prompt = f\"\"\"Passage: ArtificialIvan, a seven-year-old, London-based payment and expense management \\\n",
    "software company, has raised $190 million in Series C funding led by ARG Global, \\\n",
    "with participation from D9 Capital Group and Boulder Capital. Earlier backers also \\\n",
    "joined the round, including Hilton Group, Roxanne Capital, Paved Roads Ventures, \\\n",
    "Brook Partners, and Plato Capital.\n",
    "\n",
    "TLDR: ArtificialIvan has raised $190 million in Series C funding.\n",
    "--\n",
    "\n",
    "Passage: {data[7]['text']}\n",
    "\n",
    "TLDR: \n",
    "\"\"\""
   ]
  },
  {
   "cell_type": "code",
   "execution_count": 49,
   "id": "4d87189f",
   "metadata": {},
   "outputs": [
    {
     "ename": "CohereError",
     "evalue": "too many tokens: total number of tokens (prompt and prediction) cannot exceed 2048 - received 3082. Try using a shorter prompt or a smaller max_tokens value.",
     "output_type": "error",
     "traceback": [
      "\u001b[1;31m---------------------------------------------------------------------------\u001b[0m",
      "\u001b[1;31mCohereError\u001b[0m                               Traceback (most recent call last)",
      "Cell \u001b[1;32mIn[49], line 1\u001b[0m\n\u001b[1;32m----> 1\u001b[0m results \u001b[39m=\u001b[39m summarize(prompt)\n",
      "Cell \u001b[1;32mIn[27], line 17\u001b[0m, in \u001b[0;36msummarize\u001b[1;34m(prompt, model, num_generations, temperature, max_tokens, stop_sequences)\u001b[0m\n\u001b[0;32m     15\u001b[0m gens \u001b[39m=\u001b[39m []\n\u001b[0;32m     16\u001b[0m likelihoods \u001b[39m=\u001b[39m []\n\u001b[1;32m---> 17\u001b[0m \u001b[39mfor\u001b[39;00m gen \u001b[39min\u001b[39;00m prediction\u001b[39m.\u001b[39;49mgenerations:\n\u001b[0;32m     18\u001b[0m     gens\u001b[39m.\u001b[39mappend(gen\u001b[39m.\u001b[39mtext)\n\u001b[0;32m     20\u001b[0m     sum_likelihood \u001b[39m=\u001b[39m \u001b[39m0\u001b[39m\n",
      "File \u001b[1;32md:\\__repos\\cohere_hackathon\\venv\\lib\\site-packages\\cohere\\response.py:36\u001b[0m, in \u001b[0;36mCohereObject.__getattribute__\u001b[1;34m(self, name)\u001b[0m\n\u001b[0;32m     34\u001b[0m attr \u001b[39m=\u001b[39m \u001b[39msuper\u001b[39m()\u001b[39m.\u001b[39m\u001b[39m__getattribute__\u001b[39m(name)\n\u001b[0;32m     35\u001b[0m \u001b[39mif\u001b[39;00m \u001b[39misinstance\u001b[39m(attr, AsyncAttribute):\n\u001b[1;32m---> 36\u001b[0m     \u001b[39mreturn\u001b[39;00m attr\u001b[39m.\u001b[39;49mresolve()\n\u001b[0;32m     37\u001b[0m \u001b[39melse\u001b[39;00m:\n\u001b[0;32m     38\u001b[0m     \u001b[39mreturn\u001b[39;00m attr\n",
      "File \u001b[1;32md:\\__repos\\cohere_hackathon\\venv\\lib\\site-packages\\cohere\\response.py:28\u001b[0m, in \u001b[0;36mAsyncAttribute.resolve\u001b[1;34m(self)\u001b[0m\n\u001b[0;32m     27\u001b[0m \u001b[39mdef\u001b[39;00m \u001b[39mresolve\u001b[39m(\u001b[39mself\u001b[39m) \u001b[39m-\u001b[39m\u001b[39m>\u001b[39m Any:\n\u001b[1;32m---> 28\u001b[0m     \u001b[39mreturn\u001b[39;00m \u001b[39mself\u001b[39m\u001b[39m.\u001b[39m_getter(\u001b[39mself\u001b[39;49m\u001b[39m.\u001b[39;49m_request\u001b[39m.\u001b[39;49mresult())\n",
      "File \u001b[1;32m~\\AppData\\Local\\Programs\\Python\\Python310\\lib\\concurrent\\futures\\_base.py:446\u001b[0m, in \u001b[0;36mFuture.result\u001b[1;34m(self, timeout)\u001b[0m\n\u001b[0;32m    444\u001b[0m     \u001b[39mraise\u001b[39;00m CancelledError()\n\u001b[0;32m    445\u001b[0m \u001b[39melif\u001b[39;00m \u001b[39mself\u001b[39m\u001b[39m.\u001b[39m_state \u001b[39m==\u001b[39m FINISHED:\n\u001b[1;32m--> 446\u001b[0m     \u001b[39mreturn\u001b[39;00m \u001b[39mself\u001b[39;49m\u001b[39m.\u001b[39;49m__get_result()\n\u001b[0;32m    447\u001b[0m \u001b[39melse\u001b[39;00m:\n\u001b[0;32m    448\u001b[0m     \u001b[39mraise\u001b[39;00m \u001b[39mTimeoutError\u001b[39;00m()\n",
      "File \u001b[1;32m~\\AppData\\Local\\Programs\\Python\\Python310\\lib\\concurrent\\futures\\_base.py:391\u001b[0m, in \u001b[0;36mFuture.__get_result\u001b[1;34m(self)\u001b[0m\n\u001b[0;32m    389\u001b[0m \u001b[39mif\u001b[39;00m \u001b[39mself\u001b[39m\u001b[39m.\u001b[39m_exception:\n\u001b[0;32m    390\u001b[0m     \u001b[39mtry\u001b[39;00m:\n\u001b[1;32m--> 391\u001b[0m         \u001b[39mraise\u001b[39;00m \u001b[39mself\u001b[39m\u001b[39m.\u001b[39m_exception\n\u001b[0;32m    392\u001b[0m     \u001b[39mfinally\u001b[39;00m:\n\u001b[0;32m    393\u001b[0m         \u001b[39m# Break a reference cycle with the exception in self._exception\u001b[39;00m\n\u001b[0;32m    394\u001b[0m         \u001b[39mself\u001b[39m \u001b[39m=\u001b[39m \u001b[39mNone\u001b[39;00m\n",
      "File \u001b[1;32m~\\AppData\\Local\\Programs\\Python\\Python310\\lib\\concurrent\\futures\\thread.py:58\u001b[0m, in \u001b[0;36m_WorkItem.run\u001b[1;34m(self)\u001b[0m\n\u001b[0;32m     55\u001b[0m     \u001b[39mreturn\u001b[39;00m\n\u001b[0;32m     57\u001b[0m \u001b[39mtry\u001b[39;00m:\n\u001b[1;32m---> 58\u001b[0m     result \u001b[39m=\u001b[39m \u001b[39mself\u001b[39m\u001b[39m.\u001b[39mfn(\u001b[39m*\u001b[39m\u001b[39mself\u001b[39m\u001b[39m.\u001b[39margs, \u001b[39m*\u001b[39m\u001b[39m*\u001b[39m\u001b[39mself\u001b[39m\u001b[39m.\u001b[39mkwargs)\n\u001b[0;32m     59\u001b[0m \u001b[39mexcept\u001b[39;00m \u001b[39mBaseException\u001b[39;00m \u001b[39mas\u001b[39;00m exc:\n\u001b[0;32m     60\u001b[0m     \u001b[39mself\u001b[39m\u001b[39m.\u001b[39mfuture\u001b[39m.\u001b[39mset_exception(exc)\n",
      "File \u001b[1;32md:\\__repos\\cohere_hackathon\\venv\\lib\\site-packages\\cohere\\client.py:226\u001b[0m, in \u001b[0;36mClient.__request\u001b[1;34m(self, endpoint, json)\u001b[0m\n\u001b[0;32m    224\u001b[0m         \u001b[39mraise\u001b[39;00m CohereError(message\u001b[39m=\u001b[39mresponse\u001b[39m.\u001b[39mtext, http_status\u001b[39m=\u001b[39mresponse\u001b[39m.\u001b[39mstatus_code, headers\u001b[39m=\u001b[39mresponse\u001b[39m.\u001b[39mheaders)\n\u001b[0;32m    225\u001b[0m     \u001b[39mif\u001b[39;00m \u001b[39m'\u001b[39m\u001b[39mmessage\u001b[39m\u001b[39m'\u001b[39m \u001b[39min\u001b[39;00m res:  \u001b[39m# has errors\u001b[39;00m\n\u001b[1;32m--> 226\u001b[0m         \u001b[39mraise\u001b[39;00m CohereError(message\u001b[39m=\u001b[39mres[\u001b[39m'\u001b[39m\u001b[39mmessage\u001b[39m\u001b[39m'\u001b[39m], http_status\u001b[39m=\u001b[39mresponse\u001b[39m.\u001b[39mstatus_code, headers\u001b[39m=\u001b[39mresponse\u001b[39m.\u001b[39mheaders)\n\u001b[0;32m    227\u001b[0m     \u001b[39mself\u001b[39m\u001b[39m.\u001b[39m__print_warning_msg(response)\n\u001b[0;32m    229\u001b[0m \u001b[39mreturn\u001b[39;00m res\n",
      "\u001b[1;31mCohereError\u001b[0m: too many tokens: total number of tokens (prompt and prediction) cannot exceed 2048 - received 3082. Try using a shorter prompt or a smaller max_tokens value."
     ]
    }
   ],
   "source": [
    "results = summarize(prompt)"
   ]
  },
  {
   "cell_type": "code",
   "execution_count": null,
   "id": "18009972",
   "metadata": {},
   "outputs": [],
   "source": [
    "results.head()"
   ]
  }
 ],
 "metadata": {
  "kernelspec": {
   "display_name": "Python 3.10.3 ('venv': venv)",
   "language": "python",
   "name": "python3"
  },
  "language_info": {
   "codemirror_mode": {
    "name": "ipython",
    "version": 3
   },
   "file_extension": ".py",
   "mimetype": "text/x-python",
   "name": "python",
   "nbconvert_exporter": "python",
   "pygments_lexer": "ipython3",
   "version": "3.10.3"
  },
  "vscode": {
   "interpreter": {
    "hash": "a360b78c71b5f49ff292419317a20d8854e0163ad331d295b8b4eaeec07fff6f"
   }
  }
 },
 "nbformat": 4,
 "nbformat_minor": 5
}
