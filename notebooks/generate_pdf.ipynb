{
 "cells": [
  {
   "cell_type": "code",
   "execution_count": null,
   "metadata": {},
   "outputs": [],
   "source": [
    "import fpdf"
   ]
  },
  {
   "cell_type": "code",
   "execution_count": null,
   "metadata": {},
   "outputs": [],
   "source": [
    "sample_string = \"Lorem ipsum dolor sit amet, consectetur adipisicing elit. \\\n",
    "    Proin nibh augue, suscipit a, scelerisque sed, lacinia in, mi. Cras vel lorem. \\\n",
    "    Etiam pellentesque aliquet tellus. Phasellus pharetra nulla ac diam. \\\n",
    "    Quisque semper justo at risus. Donec venenatis, turpis vel hendrerit interdum, \\\n",
    "    dui ligula ultricies purus, sed posuere libero dui id orci. Nam congue, pede vitae dapibus \\\n",
    "    aliquet, elit magna vulputate arcu, vel tempus metus leo non est. Etiam sit amet lectus \\\n",
    "    quis est congue mollis. Phasellus congue lacus eget neque. Phasellus ornare, \\\n",
    "    ante vitae consectetuer consequat, purus sapien ultricies dolor, et mollis pede metus \\\n",
    "    eget nisi. Praesent sodales velit quis augue. Cras suscipit, urna at aliquam rhoncus, \\\n",
    "    urna quam viverra nisi, in interdum massa nibh nec erat.\""
   ]
  },
  {
   "cell_type": "markdown",
   "metadata": {},
   "source": [
    "# Tutorial"
   ]
  },
  {
   "cell_type": "code",
   "execution_count": null,
   "metadata": {},
   "outputs": [],
   "source": [
    "# https://pyfpdf.github.io/fpdf2/notebook.html"
   ]
  },
  {
   "cell_type": "code",
   "execution_count": null,
   "metadata": {},
   "outputs": [],
   "source": [
    "pdf = fpdf.FPDF(format='letter')   # pdf format\n",
    "pdf.add_page()   # create new page\n",
    "pdf.set_font(\"Arial\", size=12)   # font and textsize\n",
    "pdf.cell(200, 10, txt=\"your text\", ln=1, align=\"L\")\n",
    "pdf.cell(200, 10, txt=\"your text\", ln=2, align=\"L\")\n",
    "pdf.cell(200, 10, txt=\"your text\", ln=3, align=\"L\")\n",
    "pdf.output(\"../pdf/test.pdf\")"
   ]
  },
  {
   "cell_type": "code",
   "execution_count": null,
   "metadata": {},
   "outputs": [],
   "source": [
    "pdf = fpdf.FPDF(format='letter')   # pdf format\n",
    "pdf.add_page()   # create new page\n",
    "pdf.set_font(\"Arial\", size=12)   # font and textsize\n",
    "pdf.multi_cell(200, 200, txt=sample_string, ln=1, align=\"C\")\n",
    "pdf.output(\"../pdf/sample_string.pdf\")"
   ]
  },
  {
   "cell_type": "code",
   "execution_count": null,
   "metadata": {},
   "outputs": [],
   "source": []
  }
 ],
 "metadata": {
  "kernelspec": {
   "display_name": "Python 3.10.3 ('venv': venv)",
   "language": "python",
   "name": "python3"
  },
  "language_info": {
   "codemirror_mode": {
    "name": "ipython",
    "version": 3
   },
   "file_extension": ".py",
   "mimetype": "text/x-python",
   "name": "python",
   "nbconvert_exporter": "python",
   "pygments_lexer": "ipython3",
   "version": "3.10.3"
  },
  "orig_nbformat": 4,
  "vscode": {
   "interpreter": {
    "hash": "a360b78c71b5f49ff292419317a20d8854e0163ad331d295b8b4eaeec07fff6f"
   }
  }
 },
 "nbformat": 4,
 "nbformat_minor": 2
}
