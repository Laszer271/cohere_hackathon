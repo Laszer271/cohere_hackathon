{
 "cells": [
  {
   "cell_type": "code",
   "execution_count": 17,
   "metadata": {},
   "outputs": [],
   "source": [
    "import fpdf"
   ]
  },
  {
   "cell_type": "code",
   "execution_count": 18,
   "metadata": {},
   "outputs": [],
   "source": [
    "sample_string = \"Lorem ipsum dolor sit amet, consectetur adipisicing elit. Proin nibh augue, \\\n",
    "suscipit a, scelerisque sed, lacinia in, mi. Cras vel lorem. Etiam pellentesque aliquet \\\n",
    "tellus. Phasellus pharetra nulla ac diam. Quisque semper justo at risus. Donec venenatis, \\\n",
    "turpis vel hendrerit interdum, dui ligula ultricies purus, sed posuere libero dui id orci. \\\n",
    "Nam congue, pede vitae dapibus aliquet, elit magna vulputate arcu, vel tempus metus leo non est. \\\n",
    "Etiam sit amet lectus quis est congue mollis. Phasellus congue lacus eget neque. \\\n",
    "Phasellus ornare, ante vitae consectetuer consequat, purus sapien ultricies dolor, \\\n",
    "et mollis pede metus eget nisi. Praesent sodales velit quis augue. Cras suscipit, urna at \\\n",
    "aliquam rhoncus, urna quam viverra nisi, in interdum massa nibh nec erat.\""
   ]
  },
  {
   "cell_type": "markdown",
   "metadata": {},
   "source": [
    "# Tutorial"
   ]
  },
  {
   "cell_type": "code",
   "execution_count": 19,
   "metadata": {},
   "outputs": [],
   "source": [
    "# https://pyfpdf.github.io/fpdf2/notebook.html"
   ]
  },
  {
   "cell_type": "code",
   "execution_count": 20,
   "metadata": {},
   "outputs": [],
   "source": [
    "# pdf = fpdf.FPDF(format='letter')   # pdf format\n",
    "# pdf.add_page()   # create new page\n",
    "# pdf.set_font(\"Arial\", size=12)   # font and textsize\n",
    "# pdf.cell(200, 10, txt=\"your text\", ln=1, align=\"L\")\n",
    "# pdf.cell(200, 10, txt=\"your text\", ln=2, align=\"L\")\n",
    "# pdf.cell(200, 10, txt=\"your text\", ln=3, align=\"L\")\n",
    "# pdf.output(\"../pdf/test.pdf\")"
   ]
  },
  {
   "cell_type": "code",
   "execution_count": 22,
   "metadata": {},
   "outputs": [],
   "source": [
    "pdf = fpdf.FPDF(format='letter')   # pdf format\n",
    "pdf.add_page()   # create new page\n",
    "pdf.set_font(\"Arial\", size=12)   # font and textsize\n",
    "pdf.multi_cell(0, 5, sample_string, align=\"C\")\n",
    "pdf.image('../img/sample_image.png', x=20, y=60)\n",
    "pdf.output(\"../pdf/sample_string.pdf\")"
   ]
  },
  {
   "cell_type": "code",
   "execution_count": null,
   "metadata": {},
   "outputs": [],
   "source": []
  },
  {
   "cell_type": "code",
   "execution_count": null,
   "metadata": {},
   "outputs": [],
   "source": []
  }
 ],
 "metadata": {
  "kernelspec": {
   "display_name": "Python 3.10.3 ('venv': venv)",
   "language": "python",
   "name": "python3"
  },
  "language_info": {
   "codemirror_mode": {
    "name": "ipython",
    "version": 3
   },
   "file_extension": ".py",
   "mimetype": "text/x-python",
   "name": "python",
   "nbconvert_exporter": "python",
   "pygments_lexer": "ipython3",
   "version": "3.10.3"
  },
  "orig_nbformat": 4,
  "vscode": {
   "interpreter": {
    "hash": "a360b78c71b5f49ff292419317a20d8854e0163ad331d295b8b4eaeec07fff6f"
   }
  }
 },
 "nbformat": 4,
 "nbformat_minor": 2
}
